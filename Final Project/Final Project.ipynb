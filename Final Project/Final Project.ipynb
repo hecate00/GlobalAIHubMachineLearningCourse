{
 "cells": [
  {
   "cell_type": "markdown",
   "metadata": {},
   "source": [
    "# Final Project\n",
    "\n",
    "In this project, our aim is to building a model for predicting dimond prices. Our label (output) will be `price` column. **Do not forget, this is a Classification problem!**\n",
    "\n",
    "## Content\n",
    "carat: weight of the diamond (0.2--5.01)\n",
    "\n",
    "cut: quality of the cut (Fair, Good, Very Good, Premium, Ideal)\n",
    "\n",
    "color: diamond colour, from J (worst) to D (best)\n",
    "\n",
    "clarity: a measurement of how clear the diamond is (I1 (worst), SI2, SI1, VS2, VS1, VVS2, VVS1, IF (best))\n",
    "\n",
    "x: length in mm (0--10.74)\n",
    "\n",
    "y: width in mm (0--58.9)\n",
    "\n",
    "z: depth in mm (0--31.8)\n",
    "\n",
    "depth: total depth percentage = z / mean(x, y) = 2 * z / (x + y) (43--79)\n",
    "\n",
    "table: width of top of diamond relative to widest point (43--95)\n",
    "\n",
    "## Steps\n",
    "- Read the `diamonds.csv` file and describe it.\n",
    "- Make at least 4 different analysis on Exploratory Data Analysis section.\n",
    "- Pre-process the dataset to get ready for ML application. (Check missing data and handle them, can we need to do scaling or feature extraction etc.)\n",
    "- Define appropriate evaluation metric for our case (classification). *Hint: Is there any imbalanced problem in the label column?*\n",
    "- Split the dataset into train and test set. (Consider the imbalanced problem if is there any). Check the distribution of labels in the subsets (train and test).\n",
    "- Train and evaluate Decision Trees and at least 2 different appropriate algorithm which you can choose from scikit-learn library.\n",
    "- Is there any overfitting and underfitting? Interpret your results and try to overcome if there is any problem in a new section.\n",
    "- Create confusion metrics for each algorithm and display Accuracy, Recall, Precision and F1-Score values.\n",
    "- Analyse and compare results of 3 algorithms.\n",
    "- Select best performing model based on evaluation metric you chose on test dataset.\n",
    "\n",
    "\n",
    "Good luck :)"
   ]
  },
  {
   "cell_type": "markdown",
   "metadata": {},
   "source": [
    "<h2>Your Name</h2>"
   ]
  },
  {
   "cell_type": "markdown",
   "metadata": {},
   "source": [
    "# Data"
   ]
  },
  {
   "cell_type": "code",
   "execution_count": 3,
   "metadata": {},
   "outputs": [],
   "source": [
    "import pandas as pd\n",
    "import seaborn as sns\n",
    "import numpy as np\n",
    "import matplotlib.pyplot as plt"
   ]
  },
  {
   "cell_type": "code",
   "execution_count": 4,
   "metadata": {},
   "outputs": [
    {
     "data": {
      "text/html": [
       "<div>\n",
       "<style scoped>\n",
       "    .dataframe tbody tr th:only-of-type {\n",
       "        vertical-align: middle;\n",
       "    }\n",
       "\n",
       "    .dataframe tbody tr th {\n",
       "        vertical-align: top;\n",
       "    }\n",
       "\n",
       "    .dataframe thead th {\n",
       "        text-align: right;\n",
       "    }\n",
       "</style>\n",
       "<table border=\"1\" class=\"dataframe\">\n",
       "  <thead>\n",
       "    <tr style=\"text-align: right;\">\n",
       "      <th></th>\n",
       "      <th>index</th>\n",
       "      <th>carat</th>\n",
       "      <th>cut</th>\n",
       "      <th>color</th>\n",
       "      <th>clarity</th>\n",
       "      <th>depth</th>\n",
       "      <th>table</th>\n",
       "      <th>x</th>\n",
       "      <th>y</th>\n",
       "      <th>z</th>\n",
       "      <th>price</th>\n",
       "    </tr>\n",
       "  </thead>\n",
       "  <tbody>\n",
       "    <tr>\n",
       "      <th>0</th>\n",
       "      <td>1</td>\n",
       "      <td>0.23</td>\n",
       "      <td>Ideal</td>\n",
       "      <td>E</td>\n",
       "      <td>SI2</td>\n",
       "      <td>61.5</td>\n",
       "      <td>55.0</td>\n",
       "      <td>3.95</td>\n",
       "      <td>3.98</td>\n",
       "      <td>2.43</td>\n",
       "      <td>Very Low</td>\n",
       "    </tr>\n",
       "    <tr>\n",
       "      <th>1</th>\n",
       "      <td>2</td>\n",
       "      <td>0.21</td>\n",
       "      <td>Premium</td>\n",
       "      <td>E</td>\n",
       "      <td>SI1</td>\n",
       "      <td>59.8</td>\n",
       "      <td>61.0</td>\n",
       "      <td>3.89</td>\n",
       "      <td>3.84</td>\n",
       "      <td>2.31</td>\n",
       "      <td>Very Low</td>\n",
       "    </tr>\n",
       "    <tr>\n",
       "      <th>2</th>\n",
       "      <td>3</td>\n",
       "      <td>0.23</td>\n",
       "      <td>Good</td>\n",
       "      <td>E</td>\n",
       "      <td>VS1</td>\n",
       "      <td>56.9</td>\n",
       "      <td>65.0</td>\n",
       "      <td>4.05</td>\n",
       "      <td>4.07</td>\n",
       "      <td>2.31</td>\n",
       "      <td>Very Low</td>\n",
       "    </tr>\n",
       "    <tr>\n",
       "      <th>3</th>\n",
       "      <td>4</td>\n",
       "      <td>0.29</td>\n",
       "      <td>Premium</td>\n",
       "      <td>I</td>\n",
       "      <td>VS2</td>\n",
       "      <td>62.4</td>\n",
       "      <td>58.0</td>\n",
       "      <td>4.20</td>\n",
       "      <td>4.23</td>\n",
       "      <td>2.63</td>\n",
       "      <td>Very Low</td>\n",
       "    </tr>\n",
       "    <tr>\n",
       "      <th>4</th>\n",
       "      <td>5</td>\n",
       "      <td>0.31</td>\n",
       "      <td>Good</td>\n",
       "      <td>J</td>\n",
       "      <td>SI2</td>\n",
       "      <td>63.3</td>\n",
       "      <td>58.0</td>\n",
       "      <td>4.34</td>\n",
       "      <td>4.35</td>\n",
       "      <td>2.75</td>\n",
       "      <td>Very Low</td>\n",
       "    </tr>\n",
       "  </tbody>\n",
       "</table>\n",
       "</div>"
      ],
      "text/plain": [
       "   index  carat      cut color clarity  depth  table     x     y     z  \\\n",
       "0      1   0.23    Ideal     E     SI2   61.5   55.0  3.95  3.98  2.43   \n",
       "1      2   0.21  Premium     E     SI1   59.8   61.0  3.89  3.84  2.31   \n",
       "2      3   0.23     Good     E     VS1   56.9   65.0  4.05  4.07  2.31   \n",
       "3      4   0.29  Premium     I     VS2   62.4   58.0  4.20  4.23  2.63   \n",
       "4      5   0.31     Good     J     SI2   63.3   58.0  4.34  4.35  2.75   \n",
       "\n",
       "      price  \n",
       "0  Very Low  \n",
       "1  Very Low  \n",
       "2  Very Low  \n",
       "3  Very Low  \n",
       "4  Very Low  "
      ]
     },
     "execution_count": 4,
     "metadata": {},
     "output_type": "execute_result"
    }
   ],
   "source": [
    "# Read csv\n",
    "data = pd.read_csv(\"diamonds.csv\")\n",
    "data.head()"
   ]
  },
  {
   "cell_type": "code",
   "execution_count": 4,
   "metadata": {},
   "outputs": [
    {
     "name": "stdout",
     "output_type": "stream",
     "text": [
      "<class 'pandas.core.frame.DataFrame'>\n",
      "RangeIndex: 53940 entries, 0 to 53939\n",
      "Data columns (total 11 columns):\n",
      " #   Column   Non-Null Count  Dtype  \n",
      "---  ------   --------------  -----  \n",
      " 0   index    53940 non-null  int64  \n",
      " 1   carat    53940 non-null  float64\n",
      " 2   cut      53940 non-null  object \n",
      " 3   color    53940 non-null  object \n",
      " 4   clarity  53940 non-null  object \n",
      " 5   depth    53940 non-null  float64\n",
      " 6   table    53940 non-null  float64\n",
      " 7   x        53940 non-null  float64\n",
      " 8   y        53940 non-null  float64\n",
      " 9   z        53940 non-null  float64\n",
      " 10  price    53940 non-null  object \n",
      "dtypes: float64(6), int64(1), object(4)\n",
      "memory usage: 4.5+ MB\n"
     ]
    }
   ],
   "source": [
    "# Describe our data for each feature and use .info() for get information about our dataset\n",
    "# Analyse missing values\n",
    "\n",
    "data.info()"
   ]
  },
  {
   "cell_type": "code",
   "execution_count": 102,
   "metadata": {
    "scrolled": true
   },
   "outputs": [
    {
     "data": {
      "text/html": [
       "<div>\n",
       "<style scoped>\n",
       "    .dataframe tbody tr th:only-of-type {\n",
       "        vertical-align: middle;\n",
       "    }\n",
       "\n",
       "    .dataframe tbody tr th {\n",
       "        vertical-align: top;\n",
       "    }\n",
       "\n",
       "    .dataframe thead th {\n",
       "        text-align: right;\n",
       "    }\n",
       "</style>\n",
       "<table border=\"1\" class=\"dataframe\">\n",
       "  <thead>\n",
       "    <tr style=\"text-align: right;\">\n",
       "      <th></th>\n",
       "      <th>index</th>\n",
       "      <th>carat</th>\n",
       "      <th>depth</th>\n",
       "      <th>table</th>\n",
       "      <th>x</th>\n",
       "      <th>y</th>\n",
       "      <th>z</th>\n",
       "    </tr>\n",
       "  </thead>\n",
       "  <tbody>\n",
       "    <tr>\n",
       "      <th>count</th>\n",
       "      <td>53940.000000</td>\n",
       "      <td>53940.000000</td>\n",
       "      <td>53940.000000</td>\n",
       "      <td>53940.000000</td>\n",
       "      <td>53940.000000</td>\n",
       "      <td>53940.000000</td>\n",
       "      <td>53940.000000</td>\n",
       "    </tr>\n",
       "    <tr>\n",
       "      <th>mean</th>\n",
       "      <td>26970.500000</td>\n",
       "      <td>0.797940</td>\n",
       "      <td>61.749405</td>\n",
       "      <td>57.457184</td>\n",
       "      <td>5.731157</td>\n",
       "      <td>5.734526</td>\n",
       "      <td>3.538734</td>\n",
       "    </tr>\n",
       "    <tr>\n",
       "      <th>std</th>\n",
       "      <td>15571.281097</td>\n",
       "      <td>0.474011</td>\n",
       "      <td>1.432621</td>\n",
       "      <td>2.234491</td>\n",
       "      <td>1.121761</td>\n",
       "      <td>1.142135</td>\n",
       "      <td>0.705699</td>\n",
       "    </tr>\n",
       "    <tr>\n",
       "      <th>min</th>\n",
       "      <td>1.000000</td>\n",
       "      <td>0.200000</td>\n",
       "      <td>43.000000</td>\n",
       "      <td>43.000000</td>\n",
       "      <td>0.000000</td>\n",
       "      <td>0.000000</td>\n",
       "      <td>0.000000</td>\n",
       "    </tr>\n",
       "    <tr>\n",
       "      <th>25%</th>\n",
       "      <td>13485.750000</td>\n",
       "      <td>0.400000</td>\n",
       "      <td>61.000000</td>\n",
       "      <td>56.000000</td>\n",
       "      <td>4.710000</td>\n",
       "      <td>4.720000</td>\n",
       "      <td>2.910000</td>\n",
       "    </tr>\n",
       "    <tr>\n",
       "      <th>50%</th>\n",
       "      <td>26970.500000</td>\n",
       "      <td>0.700000</td>\n",
       "      <td>61.800000</td>\n",
       "      <td>57.000000</td>\n",
       "      <td>5.700000</td>\n",
       "      <td>5.710000</td>\n",
       "      <td>3.530000</td>\n",
       "    </tr>\n",
       "    <tr>\n",
       "      <th>75%</th>\n",
       "      <td>40455.250000</td>\n",
       "      <td>1.040000</td>\n",
       "      <td>62.500000</td>\n",
       "      <td>59.000000</td>\n",
       "      <td>6.540000</td>\n",
       "      <td>6.540000</td>\n",
       "      <td>4.040000</td>\n",
       "    </tr>\n",
       "    <tr>\n",
       "      <th>max</th>\n",
       "      <td>53940.000000</td>\n",
       "      <td>5.010000</td>\n",
       "      <td>79.000000</td>\n",
       "      <td>95.000000</td>\n",
       "      <td>10.740000</td>\n",
       "      <td>58.900000</td>\n",
       "      <td>31.800000</td>\n",
       "    </tr>\n",
       "  </tbody>\n",
       "</table>\n",
       "</div>"
      ],
      "text/plain": [
       "              index         carat         depth         table             x  \\\n",
       "count  53940.000000  53940.000000  53940.000000  53940.000000  53940.000000   \n",
       "mean   26970.500000      0.797940     61.749405     57.457184      5.731157   \n",
       "std    15571.281097      0.474011      1.432621      2.234491      1.121761   \n",
       "min        1.000000      0.200000     43.000000     43.000000      0.000000   \n",
       "25%    13485.750000      0.400000     61.000000     56.000000      4.710000   \n",
       "50%    26970.500000      0.700000     61.800000     57.000000      5.700000   \n",
       "75%    40455.250000      1.040000     62.500000     59.000000      6.540000   \n",
       "max    53940.000000      5.010000     79.000000     95.000000     10.740000   \n",
       "\n",
       "                  y             z  \n",
       "count  53940.000000  53940.000000  \n",
       "mean       5.734526      3.538734  \n",
       "std        1.142135      0.705699  \n",
       "min        0.000000      0.000000  \n",
       "25%        4.720000      2.910000  \n",
       "50%        5.710000      3.530000  \n",
       "75%        6.540000      4.040000  \n",
       "max       58.900000     31.800000  "
      ]
     },
     "execution_count": 102,
     "metadata": {},
     "output_type": "execute_result"
    }
   ],
   "source": [
    "data.describe()"
   ]
  },
  {
   "cell_type": "code",
   "execution_count": 84,
   "metadata": {},
   "outputs": [
    {
     "data": {
      "text/plain": [
       "index      0\n",
       "carat      0\n",
       "cut        0\n",
       "color      0\n",
       "clarity    0\n",
       "depth      0\n",
       "table      0\n",
       "x          0\n",
       "y          0\n",
       "z          0\n",
       "price      0\n",
       "dtype: int64"
      ]
     },
     "execution_count": 84,
     "metadata": {},
     "output_type": "execute_result"
    }
   ],
   "source": [
    "data.isna().sum()"
   ]
  },
  {
   "cell_type": "code",
   "execution_count": 103,
   "metadata": {},
   "outputs": [
    {
     "data": {
      "text/plain": [
       "Very Low     34663\n",
       "Low          11271\n",
       "Medium        4109\n",
       "High          2308\n",
       "Very High     1589\n",
       "Name: price, dtype: int64"
      ]
     },
     "execution_count": 103,
     "metadata": {},
     "output_type": "execute_result"
    }
   ],
   "source": [
    "data.price.value_counts()"
   ]
  },
  {
   "cell_type": "code",
   "execution_count": 5,
   "metadata": {},
   "outputs": [
    {
     "data": {
      "text/html": [
       "<div>\n",
       "<style scoped>\n",
       "    .dataframe tbody tr th:only-of-type {\n",
       "        vertical-align: middle;\n",
       "    }\n",
       "\n",
       "    .dataframe tbody tr th {\n",
       "        vertical-align: top;\n",
       "    }\n",
       "\n",
       "    .dataframe thead th {\n",
       "        text-align: right;\n",
       "    }\n",
       "</style>\n",
       "<table border=\"1\" class=\"dataframe\">\n",
       "  <thead>\n",
       "    <tr style=\"text-align: right;\">\n",
       "      <th></th>\n",
       "      <th>index</th>\n",
       "      <th>carat</th>\n",
       "      <th>cut</th>\n",
       "      <th>color</th>\n",
       "      <th>clarity</th>\n",
       "      <th>depth</th>\n",
       "      <th>table</th>\n",
       "      <th>x</th>\n",
       "      <th>y</th>\n",
       "      <th>z</th>\n",
       "    </tr>\n",
       "    <tr>\n",
       "      <th>price</th>\n",
       "      <th></th>\n",
       "      <th></th>\n",
       "      <th></th>\n",
       "      <th></th>\n",
       "      <th></th>\n",
       "      <th></th>\n",
       "      <th></th>\n",
       "      <th></th>\n",
       "      <th></th>\n",
       "      <th></th>\n",
       "    </tr>\n",
       "  </thead>\n",
       "  <tbody>\n",
       "    <tr>\n",
       "      <th>High</th>\n",
       "      <td>2308</td>\n",
       "      <td>2308</td>\n",
       "      <td>2308</td>\n",
       "      <td>2308</td>\n",
       "      <td>2308</td>\n",
       "      <td>2308</td>\n",
       "      <td>2308</td>\n",
       "      <td>2308</td>\n",
       "      <td>2308</td>\n",
       "      <td>2308</td>\n",
       "    </tr>\n",
       "    <tr>\n",
       "      <th>Low</th>\n",
       "      <td>11271</td>\n",
       "      <td>11271</td>\n",
       "      <td>11271</td>\n",
       "      <td>11271</td>\n",
       "      <td>11271</td>\n",
       "      <td>11271</td>\n",
       "      <td>11271</td>\n",
       "      <td>11271</td>\n",
       "      <td>11271</td>\n",
       "      <td>11271</td>\n",
       "    </tr>\n",
       "    <tr>\n",
       "      <th>Medium</th>\n",
       "      <td>4109</td>\n",
       "      <td>4109</td>\n",
       "      <td>4109</td>\n",
       "      <td>4109</td>\n",
       "      <td>4109</td>\n",
       "      <td>4109</td>\n",
       "      <td>4109</td>\n",
       "      <td>4109</td>\n",
       "      <td>4109</td>\n",
       "      <td>4109</td>\n",
       "    </tr>\n",
       "    <tr>\n",
       "      <th>Very High</th>\n",
       "      <td>1589</td>\n",
       "      <td>1589</td>\n",
       "      <td>1589</td>\n",
       "      <td>1589</td>\n",
       "      <td>1589</td>\n",
       "      <td>1589</td>\n",
       "      <td>1589</td>\n",
       "      <td>1589</td>\n",
       "      <td>1589</td>\n",
       "      <td>1589</td>\n",
       "    </tr>\n",
       "    <tr>\n",
       "      <th>Very Low</th>\n",
       "      <td>34663</td>\n",
       "      <td>34663</td>\n",
       "      <td>34663</td>\n",
       "      <td>34663</td>\n",
       "      <td>34663</td>\n",
       "      <td>34663</td>\n",
       "      <td>34663</td>\n",
       "      <td>34663</td>\n",
       "      <td>34663</td>\n",
       "      <td>34663</td>\n",
       "    </tr>\n",
       "  </tbody>\n",
       "</table>\n",
       "</div>"
      ],
      "text/plain": [
       "           index  carat    cut  color  clarity  depth  table      x      y  \\\n",
       "price                                                                        \n",
       "High        2308   2308   2308   2308     2308   2308   2308   2308   2308   \n",
       "Low        11271  11271  11271  11271    11271  11271  11271  11271  11271   \n",
       "Medium      4109   4109   4109   4109     4109   4109   4109   4109   4109   \n",
       "Very High   1589   1589   1589   1589     1589   1589   1589   1589   1589   \n",
       "Very Low   34663  34663  34663  34663    34663  34663  34663  34663  34663   \n",
       "\n",
       "               z  \n",
       "price             \n",
       "High        2308  \n",
       "Low        11271  \n",
       "Medium      4109  \n",
       "Very High   1589  \n",
       "Very Low   34663  "
      ]
     },
     "execution_count": 5,
     "metadata": {},
     "output_type": "execute_result"
    }
   ],
   "source": [
    "data.groupby(by=\"price\").count()"
   ]
  },
  {
   "cell_type": "markdown",
   "metadata": {},
   "source": [
    "# Exploratory Data Analysis"
   ]
  },
  {
   "cell_type": "code",
   "execution_count": 3,
   "metadata": {
    "scrolled": true
   },
   "outputs": [
    {
     "data": {
      "text/plain": [
       "<AxesSubplot:xlabel='price', ylabel='count'>"
      ]
     },
     "execution_count": 3,
     "metadata": {},
     "output_type": "execute_result"
    },
    {
     "data": {
      "image/png": "[encoded data removed]",
      "text/plain": [
       "<Figure size 432x288 with 1 Axes>"
      ]
     },
     "metadata": {
      "needs_background": "light"
     },
     "output_type": "display_data"
    }
   ],
   "source": [
    "# Our label Distribution (countplot)\n",
    "df = pd.read_csv(\"diamonds.csv\") \n",
    "\n",
    "sns.countplot(x ='price',  data= df)"
   ]
  },
  {
   "cell_type": "code",
   "execution_count": 9,
   "metadata": {},
   "outputs": [
    {
     "name": "stderr",
     "output_type": "stream",
     "text": [
      "C:\\Users\\micef\\anaconda3\\lib\\site-packages\\seaborn\\distributions.py:2551: FutureWarning: `distplot` is a deprecated function and will be removed in a future version. Please adapt your code to use either `displot` (a figure-level function with similar flexibility) or `histplot` (an axes-level function for histograms).\n",
      "  warnings.warn(msg, FutureWarning)\n"
     ]
    },
    {
     "data": {
      "text/plain": [
       "<AxesSubplot:xlabel='table', ylabel='Density'>"
      ]
     },
     "execution_count": 9,
     "metadata": {},
     "output_type": "execute_result"
    },
    {
     "data": {
      "image/png": "[encoded data removed]",
      "text/plain": [
       "<Figure size 432x288 with 1 Axes>"
      ]
     },
     "metadata": {
      "needs_background": "light"
     },
     "output_type": "display_data"
    }
   ],
   "source": [
    "# Example EDA (distplot)\n",
    "\n",
    "sns.distplot(df['table'])"
   ]
  },
  {
   "cell_type": "markdown",
   "metadata": {},
   "source": [
    "# Preprocessing\n",
    "\n",
    "- Are there any duplicated values?\n",
    "- Do we need to do feature scaling?\n",
    "- Do we need to generate new features?\n",
    "- Split dataset into train and test sets. (0.7/0.3)"
   ]
  },
  {
   "cell_type": "code",
   "execution_count": 10,
   "metadata": {},
   "outputs": [
    {
     "data": {
      "text/plain": [
       "0"
      ]
     },
     "execution_count": 10,
     "metadata": {},
     "output_type": "execute_result"
    }
   ],
   "source": [
    "df.duplicated().sum()"
   ]
  },
  {
   "cell_type": "code",
   "execution_count": 5,
   "metadata": {},
   "outputs": [],
   "source": [
    "from sklearn.preprocessing import LabelEncoder\n",
    "from sklearn.model_selection import train_test_split\n",
    "from sklearn.metrics import accuracy_score"
   ]
  },
  {
   "cell_type": "code",
   "execution_count": 6,
   "metadata": {},
   "outputs": [],
   "source": [
    "label_encoder = LabelEncoder()\n",
    "label_encoder.fit(data['clarity'])\n",
    "data[\"clarity\"]=label_encoder.transform(data['clarity'])"
   ]
  },
  {
   "cell_type": "code",
   "execution_count": 7,
   "metadata": {},
   "outputs": [
    {
     "data": {
      "text/html": [
       "<div>\n",
       "<style scoped>\n",
       "    .dataframe tbody tr th:only-of-type {\n",
       "        vertical-align: middle;\n",
       "    }\n",
       "\n",
       "    .dataframe tbody tr th {\n",
       "        vertical-align: top;\n",
       "    }\n",
       "\n",
       "    .dataframe thead th {\n",
       "        text-align: right;\n",
       "    }\n",
       "</style>\n",
       "<table border=\"1\" class=\"dataframe\">\n",
       "  <thead>\n",
       "    <tr style=\"text-align: right;\">\n",
       "      <th></th>\n",
       "      <th>index</th>\n",
       "      <th>carat</th>\n",
       "      <th>cut</th>\n",
       "      <th>color</th>\n",
       "      <th>clarity</th>\n",
       "      <th>depth</th>\n",
       "      <th>table</th>\n",
       "      <th>x</th>\n",
       "      <th>y</th>\n",
       "      <th>z</th>\n",
       "      <th>price</th>\n",
       "    </tr>\n",
       "  </thead>\n",
       "  <tbody>\n",
       "    <tr>\n",
       "      <th>0</th>\n",
       "      <td>1</td>\n",
       "      <td>0.23</td>\n",
       "      <td>Ideal</td>\n",
       "      <td>1</td>\n",
       "      <td>3</td>\n",
       "      <td>61.5</td>\n",
       "      <td>55.0</td>\n",
       "      <td>3.95</td>\n",
       "      <td>3.98</td>\n",
       "      <td>2.43</td>\n",
       "      <td>Very Low</td>\n",
       "    </tr>\n",
       "    <tr>\n",
       "      <th>1</th>\n",
       "      <td>2</td>\n",
       "      <td>0.21</td>\n",
       "      <td>Premium</td>\n",
       "      <td>1</td>\n",
       "      <td>2</td>\n",
       "      <td>59.8</td>\n",
       "      <td>61.0</td>\n",
       "      <td>3.89</td>\n",
       "      <td>3.84</td>\n",
       "      <td>2.31</td>\n",
       "      <td>Very Low</td>\n",
       "    </tr>\n",
       "    <tr>\n",
       "      <th>2</th>\n",
       "      <td>3</td>\n",
       "      <td>0.23</td>\n",
       "      <td>Good</td>\n",
       "      <td>1</td>\n",
       "      <td>4</td>\n",
       "      <td>56.9</td>\n",
       "      <td>65.0</td>\n",
       "      <td>4.05</td>\n",
       "      <td>4.07</td>\n",
       "      <td>2.31</td>\n",
       "      <td>Very Low</td>\n",
       "    </tr>\n",
       "    <tr>\n",
       "      <th>3</th>\n",
       "      <td>4</td>\n",
       "      <td>0.29</td>\n",
       "      <td>Premium</td>\n",
       "      <td>5</td>\n",
       "      <td>5</td>\n",
       "      <td>62.4</td>\n",
       "      <td>58.0</td>\n",
       "      <td>4.20</td>\n",
       "      <td>4.23</td>\n",
       "      <td>2.63</td>\n",
       "      <td>Very Low</td>\n",
       "    </tr>\n",
       "    <tr>\n",
       "      <th>4</th>\n",
       "      <td>5</td>\n",
       "      <td>0.31</td>\n",
       "      <td>Good</td>\n",
       "      <td>6</td>\n",
       "      <td>3</td>\n",
       "      <td>63.3</td>\n",
       "      <td>58.0</td>\n",
       "      <td>4.34</td>\n",
       "      <td>4.35</td>\n",
       "      <td>2.75</td>\n",
       "      <td>Very Low</td>\n",
       "    </tr>\n",
       "  </tbody>\n",
       "</table>\n",
       "</div>"
      ],
      "text/plain": [
       "   index  carat      cut  color  clarity  depth  table     x     y     z  \\\n",
       "0      1   0.23    Ideal      1        3   61.5   55.0  3.95  3.98  2.43   \n",
       "1      2   0.21  Premium      1        2   59.8   61.0  3.89  3.84  2.31   \n",
       "2      3   0.23     Good      1        4   56.9   65.0  4.05  4.07  2.31   \n",
       "3      4   0.29  Premium      5        5   62.4   58.0  4.20  4.23  2.63   \n",
       "4      5   0.31     Good      6        3   63.3   58.0  4.34  4.35  2.75   \n",
       "\n",
       "      price  \n",
       "0  Very Low  \n",
       "1  Very Low  \n",
       "2  Very Low  \n",
       "3  Very Low  \n",
       "4  Very Low  "
      ]
     },
     "execution_count": 7,
     "metadata": {},
     "output_type": "execute_result"
    }
   ],
   "source": [
    "\n",
    "label_encoder.fit(data['color'])\n",
    "data[\"color\"]=label_encoder.transform(data['color'])\n",
    "data.head()"
   ]
  },
  {
   "cell_type": "code",
   "execution_count": 8,
   "metadata": {},
   "outputs": [
    {
     "data": {
      "text/plain": [
       "3    11292\n",
       "1     9797\n",
       "2     9542\n",
       "4     8304\n",
       "0     6775\n",
       "5     5422\n",
       "6     2808\n",
       "Name: color, dtype: int64"
      ]
     },
     "execution_count": 8,
     "metadata": {},
     "output_type": "execute_result"
    }
   ],
   "source": [
    "data[\"color\"].value_counts()"
   ]
  },
  {
   "cell_type": "code",
   "execution_count": 9,
   "metadata": {},
   "outputs": [
    {
     "data": {
      "text/html": [
       "<div>\n",
       "<style scoped>\n",
       "    .dataframe tbody tr th:only-of-type {\n",
       "        vertical-align: middle;\n",
       "    }\n",
       "\n",
       "    .dataframe tbody tr th {\n",
       "        vertical-align: top;\n",
       "    }\n",
       "\n",
       "    .dataframe thead th {\n",
       "        text-align: right;\n",
       "    }\n",
       "</style>\n",
       "<table border=\"1\" class=\"dataframe\">\n",
       "  <thead>\n",
       "    <tr style=\"text-align: right;\">\n",
       "      <th></th>\n",
       "      <th>index</th>\n",
       "      <th>carat</th>\n",
       "      <th>cut</th>\n",
       "      <th>color</th>\n",
       "      <th>clarity</th>\n",
       "      <th>depth</th>\n",
       "      <th>table</th>\n",
       "      <th>x</th>\n",
       "      <th>y</th>\n",
       "      <th>z</th>\n",
       "      <th>price</th>\n",
       "    </tr>\n",
       "  </thead>\n",
       "  <tbody>\n",
       "    <tr>\n",
       "      <th>0</th>\n",
       "      <td>1</td>\n",
       "      <td>0.23</td>\n",
       "      <td>2</td>\n",
       "      <td>1</td>\n",
       "      <td>3</td>\n",
       "      <td>61.5</td>\n",
       "      <td>55.0</td>\n",
       "      <td>3.95</td>\n",
       "      <td>3.98</td>\n",
       "      <td>2.43</td>\n",
       "      <td>Very Low</td>\n",
       "    </tr>\n",
       "    <tr>\n",
       "      <th>1</th>\n",
       "      <td>2</td>\n",
       "      <td>0.21</td>\n",
       "      <td>3</td>\n",
       "      <td>1</td>\n",
       "      <td>2</td>\n",
       "      <td>59.8</td>\n",
       "      <td>61.0</td>\n",
       "      <td>3.89</td>\n",
       "      <td>3.84</td>\n",
       "      <td>2.31</td>\n",
       "      <td>Very Low</td>\n",
       "    </tr>\n",
       "    <tr>\n",
       "      <th>2</th>\n",
       "      <td>3</td>\n",
       "      <td>0.23</td>\n",
       "      <td>1</td>\n",
       "      <td>1</td>\n",
       "      <td>4</td>\n",
       "      <td>56.9</td>\n",
       "      <td>65.0</td>\n",
       "      <td>4.05</td>\n",
       "      <td>4.07</td>\n",
       "      <td>2.31</td>\n",
       "      <td>Very Low</td>\n",
       "    </tr>\n",
       "    <tr>\n",
       "      <th>3</th>\n",
       "      <td>4</td>\n",
       "      <td>0.29</td>\n",
       "      <td>3</td>\n",
       "      <td>5</td>\n",
       "      <td>5</td>\n",
       "      <td>62.4</td>\n",
       "      <td>58.0</td>\n",
       "      <td>4.20</td>\n",
       "      <td>4.23</td>\n",
       "      <td>2.63</td>\n",
       "      <td>Very Low</td>\n",
       "    </tr>\n",
       "    <tr>\n",
       "      <th>4</th>\n",
       "      <td>5</td>\n",
       "      <td>0.31</td>\n",
       "      <td>1</td>\n",
       "      <td>6</td>\n",
       "      <td>3</td>\n",
       "      <td>63.3</td>\n",
       "      <td>58.0</td>\n",
       "      <td>4.34</td>\n",
       "      <td>4.35</td>\n",
       "      <td>2.75</td>\n",
       "      <td>Very Low</td>\n",
       "    </tr>\n",
       "  </tbody>\n",
       "</table>\n",
       "</div>"
      ],
      "text/plain": [
       "   index  carat  cut  color  clarity  depth  table     x     y     z     price\n",
       "0      1   0.23    2      1        3   61.5   55.0  3.95  3.98  2.43  Very Low\n",
       "1      2   0.21    3      1        2   59.8   61.0  3.89  3.84  2.31  Very Low\n",
       "2      3   0.23    1      1        4   56.9   65.0  4.05  4.07  2.31  Very Low\n",
       "3      4   0.29    3      5        5   62.4   58.0  4.20  4.23  2.63  Very Low\n",
       "4      5   0.31    1      6        3   63.3   58.0  4.34  4.35  2.75  Very Low"
      ]
     },
     "execution_count": 9,
     "metadata": {},
     "output_type": "execute_result"
    }
   ],
   "source": [
    "label_encoder.fit(data['cut'])\n",
    "data[\"cut\"]=label_encoder.transform(data['cut'])\n",
    "data.head()"
   ]
  },
  {
   "cell_type": "code",
   "execution_count": 10,
   "metadata": {},
   "outputs": [
    {
     "data": {
      "text/html": [
       "<div>\n",
       "<style scoped>\n",
       "    .dataframe tbody tr th:only-of-type {\n",
       "        vertical-align: middle;\n",
       "    }\n",
       "\n",
       "    .dataframe tbody tr th {\n",
       "        vertical-align: top;\n",
       "    }\n",
       "\n",
       "    .dataframe thead th {\n",
       "        text-align: right;\n",
       "    }\n",
       "</style>\n",
       "<table border=\"1\" class=\"dataframe\">\n",
       "  <thead>\n",
       "    <tr style=\"text-align: right;\">\n",
       "      <th></th>\n",
       "      <th>index</th>\n",
       "      <th>carat</th>\n",
       "      <th>cut</th>\n",
       "      <th>color</th>\n",
       "      <th>clarity</th>\n",
       "      <th>depth</th>\n",
       "      <th>table</th>\n",
       "      <th>x</th>\n",
       "      <th>y</th>\n",
       "      <th>z</th>\n",
       "      <th>price</th>\n",
       "      <th>Label</th>\n",
       "    </tr>\n",
       "  </thead>\n",
       "  <tbody>\n",
       "    <tr>\n",
       "      <th>0</th>\n",
       "      <td>1</td>\n",
       "      <td>0.23</td>\n",
       "      <td>2</td>\n",
       "      <td>1</td>\n",
       "      <td>3</td>\n",
       "      <td>61.5</td>\n",
       "      <td>55.0</td>\n",
       "      <td>3.95</td>\n",
       "      <td>3.98</td>\n",
       "      <td>2.43</td>\n",
       "      <td>Very Low</td>\n",
       "      <td>4</td>\n",
       "    </tr>\n",
       "    <tr>\n",
       "      <th>1</th>\n",
       "      <td>2</td>\n",
       "      <td>0.21</td>\n",
       "      <td>3</td>\n",
       "      <td>1</td>\n",
       "      <td>2</td>\n",
       "      <td>59.8</td>\n",
       "      <td>61.0</td>\n",
       "      <td>3.89</td>\n",
       "      <td>3.84</td>\n",
       "      <td>2.31</td>\n",
       "      <td>Very Low</td>\n",
       "      <td>4</td>\n",
       "    </tr>\n",
       "    <tr>\n",
       "      <th>2</th>\n",
       "      <td>3</td>\n",
       "      <td>0.23</td>\n",
       "      <td>1</td>\n",
       "      <td>1</td>\n",
       "      <td>4</td>\n",
       "      <td>56.9</td>\n",
       "      <td>65.0</td>\n",
       "      <td>4.05</td>\n",
       "      <td>4.07</td>\n",
       "      <td>2.31</td>\n",
       "      <td>Very Low</td>\n",
       "      <td>4</td>\n",
       "    </tr>\n",
       "    <tr>\n",
       "      <th>3</th>\n",
       "      <td>4</td>\n",
       "      <td>0.29</td>\n",
       "      <td>3</td>\n",
       "      <td>5</td>\n",
       "      <td>5</td>\n",
       "      <td>62.4</td>\n",
       "      <td>58.0</td>\n",
       "      <td>4.20</td>\n",
       "      <td>4.23</td>\n",
       "      <td>2.63</td>\n",
       "      <td>Very Low</td>\n",
       "      <td>4</td>\n",
       "    </tr>\n",
       "    <tr>\n",
       "      <th>4</th>\n",
       "      <td>5</td>\n",
       "      <td>0.31</td>\n",
       "      <td>1</td>\n",
       "      <td>6</td>\n",
       "      <td>3</td>\n",
       "      <td>63.3</td>\n",
       "      <td>58.0</td>\n",
       "      <td>4.34</td>\n",
       "      <td>4.35</td>\n",
       "      <td>2.75</td>\n",
       "      <td>Very Low</td>\n",
       "      <td>4</td>\n",
       "    </tr>\n",
       "  </tbody>\n",
       "</table>\n",
       "</div>"
      ],
      "text/plain": [
       "   index  carat  cut  color  clarity  depth  table     x     y     z  \\\n",
       "0      1   0.23    2      1        3   61.5   55.0  3.95  3.98  2.43   \n",
       "1      2   0.21    3      1        2   59.8   61.0  3.89  3.84  2.31   \n",
       "2      3   0.23    1      1        4   56.9   65.0  4.05  4.07  2.31   \n",
       "3      4   0.29    3      5        5   62.4   58.0  4.20  4.23  2.63   \n",
       "4      5   0.31    1      6        3   63.3   58.0  4.34  4.35  2.75   \n",
       "\n",
       "      price  Label  \n",
       "0  Very Low      4  \n",
       "1  Very Low      4  \n",
       "2  Very Low      4  \n",
       "3  Very Low      4  \n",
       "4  Very Low      4  "
      ]
     },
     "execution_count": 10,
     "metadata": {},
     "output_type": "execute_result"
    }
   ],
   "source": [
    "label_encoder = LabelEncoder()\n",
    "data[\"Label\"] = label_encoder.fit_transform(data[\"price\"]) \n",
    "data.head()"
   ]
  },
  {
   "cell_type": "code",
   "execution_count": 11,
   "metadata": {},
   "outputs": [
    {
     "data": {
      "text/plain": [
       "4    34663\n",
       "1    11271\n",
       "2     4109\n",
       "0     2308\n",
       "3     1589\n",
       "Name: Label, dtype: int64"
      ]
     },
     "execution_count": 11,
     "metadata": {},
     "output_type": "execute_result"
    }
   ],
   "source": [
    "data[\"Label\"].value_counts()"
   ]
  },
  {
   "cell_type": "code",
   "execution_count": 30,
   "metadata": {},
   "outputs": [
    {
     "data": {
      "text/plain": [
       "['High', 'Low', 'Medium', 'Very High', 'Very Low']"
      ]
     },
     "execution_count": 30,
     "metadata": {},
     "output_type": "execute_result"
    }
   ],
   "source": [
    "# Checking encoded labels\n",
    "categories = list(label_encoder.inverse_transform([0, 1, 2, 3, 4]))\n",
    "categories"
   ]
  },
  {
   "cell_type": "code",
   "execution_count": null,
   "metadata": {},
   "outputs": [],
   "source": [
    "# Dropping unnecessary columns\n",
    "clases = list(set(data.price))\n",
    "data.drop([\"price\"], axis=1, inplace=True)"
   ]
  },
  {
   "cell_type": "code",
   "execution_count": 32,
   "metadata": {},
   "outputs": [],
   "source": [
    "X, y = data.iloc[: , :-1], data.iloc[: , -1]"
   ]
  },
  {
   "cell_type": "code",
   "execution_count": 33,
   "metadata": {},
   "outputs": [],
   "source": [
    "X_train, X_test, y_train, y_test = train_test_split(X, y, test_size=0.3, random_state=42)"
   ]
  },
  {
   "cell_type": "code",
   "execution_count": 69,
   "metadata": {
    "scrolled": true
   },
   "outputs": [
    {
     "name": "stdout",
     "output_type": "stream",
     "text": [
      "Feature: 0, Score: 0.27653\n",
      "Feature: 1, Score: 0.02254\n",
      "Feature: 2, Score: 0.00000\n",
      "Feature: 3, Score: 0.00000\n",
      "Feature: 4, Score: 0.00000\n",
      "Feature: 5, Score: 0.00000\n",
      "Feature: 6, Score: 0.00003\n",
      "Feature: 7, Score: 0.00000\n",
      "Feature: 8, Score: 0.70014\n",
      "Feature: 9, Score: 0.00076\n"
     ]
    },
    {
     "data": {
      "image/png": "[encoded data removed]",
      "text/plain": [
       "<Figure size 432x288 with 1 Axes>"
      ]
     },
     "metadata": {
      "needs_background": "light"
     },
     "output_type": "display_data"
    }
   ],
   "source": [
    "# decision tree for feature importance on a regression problem\n",
    "from sklearn.datasets import make_regression\n",
    "from sklearn.tree import DecisionTreeRegressor\n",
    "\n",
    "\n",
    "model = DecisionTreeRegressor()\n",
    "# fit the model\n",
    "model.fit(X, y)\n",
    "# get importance\n",
    "importance = model.feature_importances_\n",
    "# summarize feature importance\n",
    "for i,v in enumerate(importance):\n",
    "\tprint('Feature: %0d, Score: %.5f' % (i,v))\n",
    "# plot feature importance\n",
    "pyplot.bar([x for x in range(len(importance))], importance)\n",
    "pyplot.show()"
   ]
  },
  {
   "cell_type": "markdown",
   "metadata": {},
   "source": [
    "# ML Application\n",
    "\n",
    "- Define models.\n",
    "- Fit models.\n",
    "- Evaluate models for both train and test dataset.\n",
    "- Generate Confusion Matrix and scores of Accuracy, Recall, Precision and F1-Score.\n",
    "- Analyse occurrence of overfitting and underfitting. If there is any of them, try to overcome it within a different section."
   ]
  },
  {
   "cell_type": "code",
   "execution_count": 50,
   "metadata": {},
   "outputs": [
    {
     "name": "stdout",
     "output_type": "stream",
     "text": [
      "Accuracy of train: 0.9998675777318714\n",
      "Accuracy of test: 0.9995056235323199\n"
     ]
    }
   ],
   "source": [
    "from sklearn.tree import DecisionTreeClassifier\n",
    "\n",
    "clf = DecisionTreeClassifier(max_depth=5, random_state=42)\n",
    "clf.fit(X_train,y_train)\n",
    "print(\"Accuracy of train:\",clf.score(X_train,y_train))\n",
    "print(\"Accuracy of test:\",clf.score(X_test,y_test))"
   ]
  },
  {
   "cell_type": "code",
   "execution_count": 42,
   "metadata": {},
   "outputs": [
    {
     "data": {
      "image/svg+xml": [
       "<?xml version=\"1.0\" encoding=\"UTF-8\" standalone=\"no\"?>\r\n",
       "<!DOCTYPE svg PUBLIC \"-//W3C//DTD SVG 1.1//EN\"\r\n",
       " \"http://www.w3.org/Graphics/SVG/1.1/DTD/svg11.dtd\">\r\n",
       "<!-- Generated by graphviz version 2.38.0 (20140413.2041)\r\n",
       " -->\r\n",
       "<!-- Title: Tree Pages: 1 -->\r\n",
       "<svg width=\"2038pt\" height=\"671pt\"\r\n",
       " viewBox=\"0.00 0.00 2037.50 671.00\" xmlns=\"http://www.w3.org/2000/svg\" xmlns:xlink=\"http://www.w3.org/1999/xlink\">\r\n",
       "<g id=\"graph0\" class=\"graph\" transform=\"scale(1 1) rotate(0) translate(4 667)\">\r\n",
       "<title>Tree</title>\r\n",
       "<polygon fill=\"white\" stroke=\"none\" points=\"-4,4 -4,-667 2033.5,-667 2033.5,4 -4,4\"/>\r\n",
       "<!-- 0 -->\r\n",
       "<g id=\"node1\" class=\"node\"><title>0</title>\r\n",
       "<path fill=\"#f193dd\" stroke=\"black\" d=\"M1190.5,-663C1190.5,-663 938.5,-663 938.5,-663 932.5,-663 926.5,-657 926.5,-651 926.5,-651 926.5,-592 926.5,-592 926.5,-586 932.5,-580 938.5,-580 938.5,-580 1190.5,-580 1190.5,-580 1196.5,-580 1202.5,-586 1202.5,-592 1202.5,-592 1202.5,-651 1202.5,-651 1202.5,-657 1196.5,-663 1190.5,-663\"/>\r\n",
       "<text text-anchor=\"middle\" x=\"1064.5\" y=\"-647.8\" font-family=\"Helvetica,sans-Serif\" font-size=\"14.00\">y &lt;= 6.145</text>\r\n",
       "<text text-anchor=\"middle\" x=\"1064.5\" y=\"-632.8\" font-family=\"Helvetica,sans-Serif\" font-size=\"14.00\">gini = 0.537</text>\r\n",
       "<text text-anchor=\"middle\" x=\"1064.5\" y=\"-617.8\" font-family=\"Helvetica,sans-Serif\" font-size=\"14.00\">samples = 37758</text>\r\n",
       "<text text-anchor=\"middle\" x=\"1064.5\" y=\"-602.8\" font-family=\"Helvetica,sans-Serif\" font-size=\"14.00\">value = [1629, 7912, 2906, 1132, 24179]</text>\r\n",
       "<text text-anchor=\"middle\" x=\"1064.5\" y=\"-587.8\" font-family=\"Helvetica,sans-Serif\" font-size=\"14.00\">class = Very Low</text>\r\n",
       "</g>\r\n",
       "<!-- 1 -->\r\n",
       "<g id=\"node2\" class=\"node\"><title>1</title>\r\n",
       "<path fill=\"#e53dc1\" stroke=\"black\" d=\"M991.5,-544C991.5,-544 821.5,-544 821.5,-544 815.5,-544 809.5,-538 809.5,-532 809.5,-532 809.5,-473 809.5,-473 809.5,-467 815.5,-461 821.5,-461 821.5,-461 991.5,-461 991.5,-461 997.5,-461 1003.5,-467 1003.5,-473 1003.5,-473 1003.5,-532 1003.5,-532 1003.5,-538 997.5,-544 991.5,-544\"/>\r\n",
       "<text text-anchor=\"middle\" x=\"906.5\" y=\"-528.8\" font-family=\"Helvetica,sans-Serif\" font-size=\"14.00\">carat &lt;= 0.845</text>\r\n",
       "<text text-anchor=\"middle\" x=\"906.5\" y=\"-513.8\" font-family=\"Helvetica,sans-Serif\" font-size=\"14.00\">gini = 0.037</text>\r\n",
       "<text text-anchor=\"middle\" x=\"906.5\" y=\"-498.8\" font-family=\"Helvetica,sans-Serif\" font-size=\"14.00\">samples = 23144</text>\r\n",
       "<text text-anchor=\"middle\" x=\"906.5\" y=\"-483.8\" font-family=\"Helvetica,sans-Serif\" font-size=\"14.00\">value = [1, 424, 4, 2, 22713]</text>\r\n",
       "<text text-anchor=\"middle\" x=\"906.5\" y=\"-468.8\" font-family=\"Helvetica,sans-Serif\" font-size=\"14.00\">class = Very Low</text>\r\n",
       "</g>\r\n",
       "<!-- 0&#45;&gt;1 -->\r\n",
       "<g id=\"edge1\" class=\"edge\"><title>0&#45;&gt;1</title>\r\n",
       "<path fill=\"none\" stroke=\"black\" d=\"M1009.68,-579.907C996.692,-570.288 982.736,-559.953 969.417,-550.09\"/>\r\n",
       "<polygon fill=\"black\" stroke=\"black\" points=\"971.34,-547.159 961.22,-544.021 967.174,-552.785 971.34,-547.159\"/>\r\n",
       "<text text-anchor=\"middle\" x=\"964.907\" y=\"-565.048\" font-family=\"Helvetica,sans-Serif\" font-size=\"14.00\">True</text>\r\n",
       "</g>\r\n",
       "<!-- 22 -->\r\n",
       "<g id=\"node23\" class=\"node\"><title>22</title>\r\n",
       "<path fill=\"#cbf5b1\" stroke=\"black\" d=\"M1344.5,-544C1344.5,-544 1100.5,-544 1100.5,-544 1094.5,-544 1088.5,-538 1088.5,-532 1088.5,-532 1088.5,-473 1088.5,-473 1088.5,-467 1094.5,-461 1100.5,-461 1100.5,-461 1344.5,-461 1344.5,-461 1350.5,-461 1356.5,-467 1356.5,-473 1356.5,-473 1356.5,-532 1356.5,-532 1356.5,-538 1350.5,-544 1344.5,-544\"/>\r\n",
       "<text text-anchor=\"middle\" x=\"1222.5\" y=\"-528.8\" font-family=\"Helvetica,sans-Serif\" font-size=\"14.00\">index &lt;= 18843.5</text>\r\n",
       "<text text-anchor=\"middle\" x=\"1222.5\" y=\"-513.8\" font-family=\"Helvetica,sans-Serif\" font-size=\"14.00\">gini = 0.67</text>\r\n",
       "<text text-anchor=\"middle\" x=\"1222.5\" y=\"-498.8\" font-family=\"Helvetica,sans-Serif\" font-size=\"14.00\">samples = 14614</text>\r\n",
       "<text text-anchor=\"middle\" x=\"1222.5\" y=\"-483.8\" font-family=\"Helvetica,sans-Serif\" font-size=\"14.00\">value = [1628, 7488, 2902, 1130, 1466]</text>\r\n",
       "<text text-anchor=\"middle\" x=\"1222.5\" y=\"-468.8\" font-family=\"Helvetica,sans-Serif\" font-size=\"14.00\">class = Low</text>\r\n",
       "</g>\r\n",
       "<!-- 0&#45;&gt;22 -->\r\n",
       "<g id=\"edge22\" class=\"edge\"><title>0&#45;&gt;22</title>\r\n",
       "<path fill=\"none\" stroke=\"black\" d=\"M1119.32,-579.907C1132.31,-570.288 1146.26,-559.953 1159.58,-550.09\"/>\r\n",
       "<polygon fill=\"black\" stroke=\"black\" points=\"1161.83,-552.785 1167.78,-544.021 1157.66,-547.159 1161.83,-552.785\"/>\r\n",
       "<text text-anchor=\"middle\" x=\"1164.09\" y=\"-565.048\" font-family=\"Helvetica,sans-Serif\" font-size=\"14.00\">False</text>\r\n",
       "</g>\r\n",
       "<!-- 2 -->\r\n",
       "<g id=\"node3\" class=\"node\"><title>2</title>\r\n",
       "<path fill=\"#e53bc0\" stroke=\"black\" d=\"M719.5,-425C719.5,-425 549.5,-425 549.5,-425 543.5,-425 537.5,-419 537.5,-413 537.5,-413 537.5,-354 537.5,-354 537.5,-348 543.5,-342 549.5,-342 549.5,-342 719.5,-342 719.5,-342 725.5,-342 731.5,-348 731.5,-354 731.5,-354 731.5,-413 731.5,-413 731.5,-419 725.5,-425 719.5,-425\"/>\r\n",
       "<text text-anchor=\"middle\" x=\"634.5\" y=\"-409.8\" font-family=\"Helvetica,sans-Serif\" font-size=\"14.00\">index &lt;= 13605.5</text>\r\n",
       "<text text-anchor=\"middle\" x=\"634.5\" y=\"-394.8\" font-family=\"Helvetica,sans-Serif\" font-size=\"14.00\">gini = 0.015</text>\r\n",
       "<text text-anchor=\"middle\" x=\"634.5\" y=\"-379.8\" font-family=\"Helvetica,sans-Serif\" font-size=\"14.00\">samples = 22317</text>\r\n",
       "<text text-anchor=\"middle\" x=\"634.5\" y=\"-364.8\" font-family=\"Helvetica,sans-Serif\" font-size=\"14.00\">value = [0, 172, 0, 0, 22145]</text>\r\n",
       "<text text-anchor=\"middle\" x=\"634.5\" y=\"-349.8\" font-family=\"Helvetica,sans-Serif\" font-size=\"14.00\">class = Very Low</text>\r\n",
       "</g>\r\n",
       "<!-- 1&#45;&gt;2 -->\r\n",
       "<g id=\"edge2\" class=\"edge\"><title>1&#45;&gt;2</title>\r\n",
       "<path fill=\"none\" stroke=\"black\" d=\"M812.131,-460.907C788.185,-450.607 762.334,-439.487 737.963,-429.004\"/>\r\n",
       "<polygon fill=\"black\" stroke=\"black\" points=\"739.271,-425.757 728.702,-425.021 736.505,-432.187 739.271,-425.757\"/>\r\n",
       "</g>\r\n",
       "<!-- 15 -->\r\n",
       "<g id=\"node16\" class=\"node\"><title>15</title>\r\n",
       "<path fill=\"#f192dc\" stroke=\"black\" d=\"M983,-425C983,-425 830,-425 830,-425 824,-425 818,-419 818,-413 818,-413 818,-354 818,-354 818,-348 824,-342 830,-342 830,-342 983,-342 983,-342 989,-342 995,-348 995,-354 995,-354 995,-413 995,-413 995,-419 989,-425 983,-425\"/>\r\n",
       "<text text-anchor=\"middle\" x=\"906.5\" y=\"-409.8\" font-family=\"Helvetica,sans-Serif\" font-size=\"14.00\">index &lt;= 6316.5</text>\r\n",
       "<text text-anchor=\"middle\" x=\"906.5\" y=\"-394.8\" font-family=\"Helvetica,sans-Serif\" font-size=\"14.00\">gini = 0.435</text>\r\n",
       "<text text-anchor=\"middle\" x=\"906.5\" y=\"-379.8\" font-family=\"Helvetica,sans-Serif\" font-size=\"14.00\">samples = 827</text>\r\n",
       "<text text-anchor=\"middle\" x=\"906.5\" y=\"-364.8\" font-family=\"Helvetica,sans-Serif\" font-size=\"14.00\">value = [1, 252, 4, 2, 568]</text>\r\n",
       "<text text-anchor=\"middle\" x=\"906.5\" y=\"-349.8\" font-family=\"Helvetica,sans-Serif\" font-size=\"14.00\">class = Very Low</text>\r\n",
       "</g>\r\n",
       "<!-- 1&#45;&gt;15 -->\r\n",
       "<g id=\"edge15\" class=\"edge\"><title>1&#45;&gt;15</title>\r\n",
       "<path fill=\"none\" stroke=\"black\" d=\"M906.5,-460.907C906.5,-452.649 906.5,-443.864 906.5,-435.302\"/>\r\n",
       "<polygon fill=\"black\" stroke=\"black\" points=\"910,-435.021 906.5,-425.021 903,-435.021 910,-435.021\"/>\r\n",
       "</g>\r\n",
       "<!-- 3 -->\r\n",
       "<g id=\"node4\" class=\"node\"><title>3</title>\r\n",
       "<path fill=\"#e644c3\" stroke=\"black\" d=\"M356,-306C356,-306 195,-306 195,-306 189,-306 183,-300 183,-294 183,-294 183,-235 183,-235 183,-229 189,-223 195,-223 195,-223 356,-223 356,-223 362,-223 368,-229 368,-235 368,-235 368,-294 368,-294 368,-300 362,-306 356,-306\"/>\r\n",
       "<text text-anchor=\"middle\" x=\"275.5\" y=\"-290.8\" font-family=\"Helvetica,sans-Serif\" font-size=\"14.00\">index &lt;= 6318.0</text>\r\n",
       "<text text-anchor=\"middle\" x=\"275.5\" y=\"-275.8\" font-family=\"Helvetica,sans-Serif\" font-size=\"14.00\">gini = 0.099</text>\r\n",
       "<text text-anchor=\"middle\" x=\"275.5\" y=\"-260.8\" font-family=\"Helvetica,sans-Serif\" font-size=\"14.00\">samples = 3189</text>\r\n",
       "<text text-anchor=\"middle\" x=\"275.5\" y=\"-245.8\" font-family=\"Helvetica,sans-Serif\" font-size=\"14.00\">value = [0, 167, 0, 0, 3022]</text>\r\n",
       "<text text-anchor=\"middle\" x=\"275.5\" y=\"-230.8\" font-family=\"Helvetica,sans-Serif\" font-size=\"14.00\">class = Very Low</text>\r\n",
       "</g>\r\n",
       "<!-- 2&#45;&gt;3 -->\r\n",
       "<g id=\"edge3\" class=\"edge\"><title>2&#45;&gt;3</title>\r\n",
       "<path fill=\"none\" stroke=\"black\" d=\"M537.349,-350.838C487.896,-334.721 427.796,-315.134 377.653,-298.792\"/>\r\n",
       "<polygon fill=\"black\" stroke=\"black\" points=\"378.68,-295.446 368.087,-295.675 376.51,-302.101 378.68,-295.446\"/>\r\n",
       "</g>\r\n",
       "<!-- 8 -->\r\n",
       "<g id=\"node9\" class=\"node\"><title>8</title>\r\n",
       "<path fill=\"#e539c0\" stroke=\"black\" d=\"M711,-306C711,-306 558,-306 558,-306 552,-306 546,-300 546,-294 546,-294 546,-235 546,-235 546,-229 552,-223 558,-223 558,-223 711,-223 711,-223 717,-223 723,-229 723,-235 723,-235 723,-294 723,-294 723,-300 717,-306 711,-306\"/>\r\n",
       "<text text-anchor=\"middle\" x=\"634.5\" y=\"-290.8\" font-family=\"Helvetica,sans-Serif\" font-size=\"14.00\">y &lt;= 6.045</text>\r\n",
       "<text text-anchor=\"middle\" x=\"634.5\" y=\"-275.8\" font-family=\"Helvetica,sans-Serif\" font-size=\"14.00\">gini = 0.001</text>\r\n",
       "<text text-anchor=\"middle\" x=\"634.5\" y=\"-260.8\" font-family=\"Helvetica,sans-Serif\" font-size=\"14.00\">samples = 19128</text>\r\n",
       "<text text-anchor=\"middle\" x=\"634.5\" y=\"-245.8\" font-family=\"Helvetica,sans-Serif\" font-size=\"14.00\">value = [0, 5, 0, 0, 19123]</text>\r\n",
       "<text text-anchor=\"middle\" x=\"634.5\" y=\"-230.8\" font-family=\"Helvetica,sans-Serif\" font-size=\"14.00\">class = Very Low</text>\r\n",
       "</g>\r\n",
       "<!-- 2&#45;&gt;8 -->\r\n",
       "<g id=\"edge8\" class=\"edge\"><title>2&#45;&gt;8</title>\r\n",
       "<path fill=\"none\" stroke=\"black\" d=\"M634.5,-341.907C634.5,-333.649 634.5,-324.864 634.5,-316.302\"/>\r\n",
       "<polygon fill=\"black\" stroke=\"black\" points=\"638,-316.021 634.5,-306.021 631,-316.021 638,-316.021\"/>\r\n",
       "</g>\r\n",
       "<!-- 4 -->\r\n",
       "<g id=\"node5\" class=\"node\"><title>4</title>\r\n",
       "<path fill=\"#e539c0\" stroke=\"black\" d=\"M157,-179.5C157,-179.5 12,-179.5 12,-179.5 6,-179.5 0,-173.5 0,-167.5 0,-167.5 0,-123.5 0,-123.5 0,-117.5 6,-111.5 12,-111.5 12,-111.5 157,-111.5 157,-111.5 163,-111.5 169,-117.5 169,-123.5 169,-123.5 169,-167.5 169,-167.5 169,-173.5 163,-179.5 157,-179.5\"/>\r\n",
       "<text text-anchor=\"middle\" x=\"84.5\" y=\"-164.3\" font-family=\"Helvetica,sans-Serif\" font-size=\"14.00\">gini = 0.0</text>\r\n",
       "<text text-anchor=\"middle\" x=\"84.5\" y=\"-149.3\" font-family=\"Helvetica,sans-Serif\" font-size=\"14.00\">samples = 2501</text>\r\n",
       "<text text-anchor=\"middle\" x=\"84.5\" y=\"-134.3\" font-family=\"Helvetica,sans-Serif\" font-size=\"14.00\">value = [0, 0, 0, 0, 2501]</text>\r\n",
       "<text text-anchor=\"middle\" x=\"84.5\" y=\"-119.3\" font-family=\"Helvetica,sans-Serif\" font-size=\"14.00\">class = Very Low</text>\r\n",
       "</g>\r\n",
       "<!-- 3&#45;&gt;4 -->\r\n",
       "<g id=\"edge4\" class=\"edge\"><title>3&#45;&gt;4</title>\r\n",
       "<path fill=\"none\" stroke=\"black\" d=\"M209.234,-222.907C189.148,-210.604 167.154,-197.131 147.303,-184.971\"/>\r\n",
       "<polygon fill=\"black\" stroke=\"black\" points=\"149,-181.906 138.644,-179.667 145.343,-187.875 149,-181.906\"/>\r\n",
       "</g>\r\n",
       "<!-- 5 -->\r\n",
       "<g id=\"node6\" class=\"node\"><title>5</title>\r\n",
       "<path fill=\"#ed78d4\" stroke=\"black\" d=\"M352,-187C352,-187 199,-187 199,-187 193,-187 187,-181 187,-175 187,-175 187,-116 187,-116 187,-110 193,-104 199,-104 199,-104 352,-104 352,-104 358,-104 364,-110 364,-116 364,-116 364,-175 364,-175 364,-181 358,-187 352,-187\"/>\r\n",
       "<text text-anchor=\"middle\" x=\"275.5\" y=\"-171.8\" font-family=\"Helvetica,sans-Serif\" font-size=\"14.00\">y &lt;= 4.99</text>\r\n",
       "<text text-anchor=\"middle\" x=\"275.5\" y=\"-156.8\" font-family=\"Helvetica,sans-Serif\" font-size=\"14.00\">gini = 0.368</text>\r\n",
       "<text text-anchor=\"middle\" x=\"275.5\" y=\"-141.8\" font-family=\"Helvetica,sans-Serif\" font-size=\"14.00\">samples = 688</text>\r\n",
       "<text text-anchor=\"middle\" x=\"275.5\" y=\"-126.8\" font-family=\"Helvetica,sans-Serif\" font-size=\"14.00\">value = [0, 167, 0, 0, 521]</text>\r\n",
       "<text text-anchor=\"middle\" x=\"275.5\" y=\"-111.8\" font-family=\"Helvetica,sans-Serif\" font-size=\"14.00\">class = Very Low</text>\r\n",
       "</g>\r\n",
       "<!-- 3&#45;&gt;5 -->\r\n",
       "<g id=\"edge5\" class=\"edge\"><title>3&#45;&gt;5</title>\r\n",
       "<path fill=\"none\" stroke=\"black\" d=\"M275.5,-222.907C275.5,-214.649 275.5,-205.864 275.5,-197.302\"/>\r\n",
       "<polygon fill=\"black\" stroke=\"black\" points=\"279,-197.021 275.5,-187.021 272,-197.021 279,-197.021\"/>\r\n",
       "</g>\r\n",
       "<!-- 6 -->\r\n",
       "<g id=\"node7\" class=\"node\"><title>6</title>\r\n",
       "<path fill=\"#e539c0\" stroke=\"black\" d=\"M165,-68C165,-68 28,-68 28,-68 22,-68 16,-62 16,-56 16,-56 16,-12 16,-12 16,-6 22,-0 28,-0 28,-0 165,-0 165,-0 171,-0 177,-6 177,-12 177,-12 177,-56 177,-56 177,-62 171,-68 165,-68\"/>\r\n",
       "<text text-anchor=\"middle\" x=\"96.5\" y=\"-52.8\" font-family=\"Helvetica,sans-Serif\" font-size=\"14.00\">gini = 0.0</text>\r\n",
       "<text text-anchor=\"middle\" x=\"96.5\" y=\"-37.8\" font-family=\"Helvetica,sans-Serif\" font-size=\"14.00\">samples = 521</text>\r\n",
       "<text text-anchor=\"middle\" x=\"96.5\" y=\"-22.8\" font-family=\"Helvetica,sans-Serif\" font-size=\"14.00\">value = [0, 0, 0, 0, 521]</text>\r\n",
       "<text text-anchor=\"middle\" x=\"96.5\" y=\"-7.8\" font-family=\"Helvetica,sans-Serif\" font-size=\"14.00\">class = Very Low</text>\r\n",
       "</g>\r\n",
       "<!-- 5&#45;&gt;6 -->\r\n",
       "<g id=\"edge6\" class=\"edge\"><title>5&#45;&gt;6</title>\r\n",
       "<path fill=\"none\" stroke=\"black\" d=\"M209.101,-103.882C192.815,-93.9191 175.434,-83.2862 159.322,-73.4299\"/>\r\n",
       "<polygon fill=\"black\" stroke=\"black\" points=\"160.873,-70.2761 150.516,-68.0433 157.22,-76.2474 160.873,-70.2761\"/>\r\n",
       "</g>\r\n",
       "<!-- 7 -->\r\n",
       "<g id=\"node8\" class=\"node\"><title>7</title>\r\n",
       "<path fill=\"#7be539\" stroke=\"black\" d=\"M344,-68C344,-68 207,-68 207,-68 201,-68 195,-62 195,-56 195,-56 195,-12 195,-12 195,-6 201,-0 207,-0 207,-0 344,-0 344,-0 350,-0 356,-6 356,-12 356,-12 356,-56 356,-56 356,-62 350,-68 344,-68\"/>\r\n",
       "<text text-anchor=\"middle\" x=\"275.5\" y=\"-52.8\" font-family=\"Helvetica,sans-Serif\" font-size=\"14.00\">gini = 0.0</text>\r\n",
       "<text text-anchor=\"middle\" x=\"275.5\" y=\"-37.8\" font-family=\"Helvetica,sans-Serif\" font-size=\"14.00\">samples = 167</text>\r\n",
       "<text text-anchor=\"middle\" x=\"275.5\" y=\"-22.8\" font-family=\"Helvetica,sans-Serif\" font-size=\"14.00\">value = [0, 167, 0, 0, 0]</text>\r\n",
       "<text text-anchor=\"middle\" x=\"275.5\" y=\"-7.8\" font-family=\"Helvetica,sans-Serif\" font-size=\"14.00\">class = Low</text>\r\n",
       "</g>\r\n",
       "<!-- 5&#45;&gt;7 -->\r\n",
       "<g id=\"edge7\" class=\"edge\"><title>5&#45;&gt;7</title>\r\n",
       "<path fill=\"none\" stroke=\"black\" d=\"M275.5,-103.726C275.5,-95.5175 275.5,-86.8595 275.5,-78.56\"/>\r\n",
       "<polygon fill=\"black\" stroke=\"black\" points=\"279,-78.2996 275.5,-68.2996 272,-78.2996 279,-78.2996\"/>\r\n",
       "</g>\r\n",
       "<!-- 9 -->\r\n",
       "<g id=\"node10\" class=\"node\"><title>9</title>\r\n",
       "<path fill=\"#e539c0\" stroke=\"black\" d=\"M711,-187C711,-187 558,-187 558,-187 552,-187 546,-181 546,-175 546,-175 546,-116 546,-116 546,-110 552,-104 558,-104 558,-104 711,-104 711,-104 717,-104 723,-110 723,-116 723,-116 723,-175 723,-175 723,-181 717,-187 711,-187\"/>\r\n",
       "<text text-anchor=\"middle\" x=\"634.5\" y=\"-171.8\" font-family=\"Helvetica,sans-Serif\" font-size=\"14.00\">carat &lt;= 0.795</text>\r\n",
       "<text text-anchor=\"middle\" x=\"634.5\" y=\"-156.8\" font-family=\"Helvetica,sans-Serif\" font-size=\"14.00\">gini = 0.0</text>\r\n",
       "<text text-anchor=\"middle\" x=\"634.5\" y=\"-141.8\" font-family=\"Helvetica,sans-Serif\" font-size=\"14.00\">samples = 19093</text>\r\n",
       "<text text-anchor=\"middle\" x=\"634.5\" y=\"-126.8\" font-family=\"Helvetica,sans-Serif\" font-size=\"14.00\">value = [0, 2, 0, 0, 19091]</text>\r\n",
       "<text text-anchor=\"middle\" x=\"634.5\" y=\"-111.8\" font-family=\"Helvetica,sans-Serif\" font-size=\"14.00\">class = Very Low</text>\r\n",
       "</g>\r\n",
       "<!-- 8&#45;&gt;9 -->\r\n",
       "<g id=\"edge9\" class=\"edge\"><title>8&#45;&gt;9</title>\r\n",
       "<path fill=\"none\" stroke=\"black\" d=\"M634.5,-222.907C634.5,-214.649 634.5,-205.864 634.5,-197.302\"/>\r\n",
       "<polygon fill=\"black\" stroke=\"black\" points=\"638,-197.021 634.5,-187.021 631,-197.021 638,-197.021\"/>\r\n",
       "</g>\r\n",
       "<!-- 12 -->\r\n",
       "<g id=\"node13\" class=\"node\"><title>12</title>\r\n",
       "<path fill=\"#e74cc6\" stroke=\"black\" d=\"M884.5,-187C884.5,-187 756.5,-187 756.5,-187 750.5,-187 744.5,-181 744.5,-175 744.5,-175 744.5,-116 744.5,-116 744.5,-110 750.5,-104 756.5,-104 756.5,-104 884.5,-104 884.5,-104 890.5,-104 896.5,-110 896.5,-116 896.5,-116 896.5,-175 896.5,-175 896.5,-181 890.5,-187 884.5,-187\"/>\r\n",
       "<text text-anchor=\"middle\" x=\"820.5\" y=\"-171.8\" font-family=\"Helvetica,sans-Serif\" font-size=\"14.00\">index &lt;= 32779.0</text>\r\n",
       "<text text-anchor=\"middle\" x=\"820.5\" y=\"-156.8\" font-family=\"Helvetica,sans-Serif\" font-size=\"14.00\">gini = 0.157</text>\r\n",
       "<text text-anchor=\"middle\" x=\"820.5\" y=\"-141.8\" font-family=\"Helvetica,sans-Serif\" font-size=\"14.00\">samples = 35</text>\r\n",
       "<text text-anchor=\"middle\" x=\"820.5\" y=\"-126.8\" font-family=\"Helvetica,sans-Serif\" font-size=\"14.00\">value = [0, 3, 0, 0, 32]</text>\r\n",
       "<text text-anchor=\"middle\" x=\"820.5\" y=\"-111.8\" font-family=\"Helvetica,sans-Serif\" font-size=\"14.00\">class = Very Low</text>\r\n",
       "</g>\r\n",
       "<!-- 8&#45;&gt;12 -->\r\n",
       "<g id=\"edge12\" class=\"edge\"><title>8&#45;&gt;12</title>\r\n",
       "<path fill=\"none\" stroke=\"black\" d=\"M699.032,-222.907C714.613,-213.106 731.374,-202.563 747.32,-192.533\"/>\r\n",
       "<polygon fill=\"black\" stroke=\"black\" points=\"749.481,-195.308 756.082,-187.021 745.754,-189.383 749.481,-195.308\"/>\r\n",
       "</g>\r\n",
       "<!-- 10 -->\r\n",
       "<g id=\"node11\" class=\"node\"><title>10</title>\r\n",
       "<path fill=\"#e539c0\" stroke=\"black\" d=\"M539,-68C539,-68 386,-68 386,-68 380,-68 374,-62 374,-56 374,-56 374,-12 374,-12 374,-6 380,-0 386,-0 386,-0 539,-0 539,-0 545,-0 551,-6 551,-12 551,-12 551,-56 551,-56 551,-62 545,-68 539,-68\"/>\r\n",
       "<text text-anchor=\"middle\" x=\"462.5\" y=\"-52.8\" font-family=\"Helvetica,sans-Serif\" font-size=\"14.00\">gini = 0.0</text>\r\n",
       "<text text-anchor=\"middle\" x=\"462.5\" y=\"-37.8\" font-family=\"Helvetica,sans-Serif\" font-size=\"14.00\">samples = 18958</text>\r\n",
       "<text text-anchor=\"middle\" x=\"462.5\" y=\"-22.8\" font-family=\"Helvetica,sans-Serif\" font-size=\"14.00\">value = [0, 0, 0, 0, 18958]</text>\r\n",
       "<text text-anchor=\"middle\" x=\"462.5\" y=\"-7.8\" font-family=\"Helvetica,sans-Serif\" font-size=\"14.00\">class = Very Low</text>\r\n",
       "</g>\r\n",
       "<!-- 9&#45;&gt;10 -->\r\n",
       "<g id=\"edge10\" class=\"edge\"><title>9&#45;&gt;10</title>\r\n",
       "<path fill=\"none\" stroke=\"black\" d=\"M570.454,-103.726C555.044,-93.9161 538.627,-83.4644 523.367,-73.7496\"/>\r\n",
       "<polygon fill=\"black\" stroke=\"black\" points=\"524.848,-70.5431 514.532,-68.1252 521.088,-76.4481 524.848,-70.5431\"/>\r\n",
       "</g>\r\n",
       "<!-- 11 -->\r\n",
       "<g id=\"node12\" class=\"node\"><title>11</title>\r\n",
       "<path fill=\"#e53cc1\" stroke=\"black\" d=\"M718,-68C718,-68 581,-68 581,-68 575,-68 569,-62 569,-56 569,-56 569,-12 569,-12 569,-6 575,-0 581,-0 581,-0 718,-0 718,-0 724,-0 730,-6 730,-12 730,-12 730,-56 730,-56 730,-62 724,-68 718,-68\"/>\r\n",
       "<text text-anchor=\"middle\" x=\"649.5\" y=\"-52.8\" font-family=\"Helvetica,sans-Serif\" font-size=\"14.00\">gini = 0.029</text>\r\n",
       "<text text-anchor=\"middle\" x=\"649.5\" y=\"-37.8\" font-family=\"Helvetica,sans-Serif\" font-size=\"14.00\">samples = 135</text>\r\n",
       "<text text-anchor=\"middle\" x=\"649.5\" y=\"-22.8\" font-family=\"Helvetica,sans-Serif\" font-size=\"14.00\">value = [0, 2, 0, 0, 133]</text>\r\n",
       "<text text-anchor=\"middle\" x=\"649.5\" y=\"-7.8\" font-family=\"Helvetica,sans-Serif\" font-size=\"14.00\">class = Very Low</text>\r\n",
       "</g>\r\n",
       "<!-- 9&#45;&gt;11 -->\r\n",
       "<g id=\"edge11\" class=\"edge\"><title>9&#45;&gt;11</title>\r\n",
       "<path fill=\"none\" stroke=\"black\" d=\"M640.085,-103.726C641.222,-95.4263 642.422,-86.6671 643.571,-78.2834\"/>\r\n",
       "<polygon fill=\"black\" stroke=\"black\" points=\"647.049,-78.6821 644.938,-68.2996 640.114,-77.732 647.049,-78.6821\"/>\r\n",
       "</g>\r\n",
       "<!-- 13 -->\r\n",
       "<g id=\"node14\" class=\"node\"><title>13</title>\r\n",
       "<path fill=\"#7be539\" stroke=\"black\" d=\"M880.5,-68C880.5,-68 760.5,-68 760.5,-68 754.5,-68 748.5,-62 748.5,-56 748.5,-56 748.5,-12 748.5,-12 748.5,-6 754.5,-0 760.5,-0 760.5,-0 880.5,-0 880.5,-0 886.5,-0 892.5,-6 892.5,-12 892.5,-12 892.5,-56 892.5,-56 892.5,-62 886.5,-68 880.5,-68\"/>\r\n",
       "<text text-anchor=\"middle\" x=\"820.5\" y=\"-52.8\" font-family=\"Helvetica,sans-Serif\" font-size=\"14.00\">gini = 0.0</text>\r\n",
       "<text text-anchor=\"middle\" x=\"820.5\" y=\"-37.8\" font-family=\"Helvetica,sans-Serif\" font-size=\"14.00\">samples = 3</text>\r\n",
       "<text text-anchor=\"middle\" x=\"820.5\" y=\"-22.8\" font-family=\"Helvetica,sans-Serif\" font-size=\"14.00\">value = [0, 3, 0, 0, 0]</text>\r\n",
       "<text text-anchor=\"middle\" x=\"820.5\" y=\"-7.8\" font-family=\"Helvetica,sans-Serif\" font-size=\"14.00\">class = Low</text>\r\n",
       "</g>\r\n",
       "<!-- 12&#45;&gt;13 -->\r\n",
       "<g id=\"edge13\" class=\"edge\"><title>12&#45;&gt;13</title>\r\n",
       "<path fill=\"none\" stroke=\"black\" d=\"M820.5,-103.726C820.5,-95.5175 820.5,-86.8595 820.5,-78.56\"/>\r\n",
       "<polygon fill=\"black\" stroke=\"black\" points=\"824,-78.2996 820.5,-68.2996 817,-78.2996 824,-78.2996\"/>\r\n",
       "</g>\r\n",
       "<!-- 14 -->\r\n",
       "<g id=\"node15\" class=\"node\"><title>14</title>\r\n",
       "<path fill=\"#e539c0\" stroke=\"black\" d=\"M1050.5,-68C1050.5,-68 922.5,-68 922.5,-68 916.5,-68 910.5,-62 910.5,-56 910.5,-56 910.5,-12 910.5,-12 910.5,-6 916.5,-0 922.5,-0 922.5,-0 1050.5,-0 1050.5,-0 1056.5,-0 1062.5,-6 1062.5,-12 1062.5,-12 1062.5,-56 1062.5,-56 1062.5,-62 1056.5,-68 1050.5,-68\"/>\r\n",
       "<text text-anchor=\"middle\" x=\"986.5\" y=\"-52.8\" font-family=\"Helvetica,sans-Serif\" font-size=\"14.00\">gini = 0.0</text>\r\n",
       "<text text-anchor=\"middle\" x=\"986.5\" y=\"-37.8\" font-family=\"Helvetica,sans-Serif\" font-size=\"14.00\">samples = 32</text>\r\n",
       "<text text-anchor=\"middle\" x=\"986.5\" y=\"-22.8\" font-family=\"Helvetica,sans-Serif\" font-size=\"14.00\">value = [0, 0, 0, 0, 32]</text>\r\n",
       "<text text-anchor=\"middle\" x=\"986.5\" y=\"-7.8\" font-family=\"Helvetica,sans-Serif\" font-size=\"14.00\">class = Very Low</text>\r\n",
       "</g>\r\n",
       "<!-- 12&#45;&gt;14 -->\r\n",
       "<g id=\"edge14\" class=\"edge\"><title>12&#45;&gt;14</title>\r\n",
       "<path fill=\"none\" stroke=\"black\" d=\"M882.312,-103.726C897.184,-93.9161 913.029,-83.4644 927.756,-73.7496\"/>\r\n",
       "<polygon fill=\"black\" stroke=\"black\" points=\"929.863,-76.5532 936.283,-68.1252 926.008,-70.7099 929.863,-76.5532\"/>\r\n",
       "</g>\r\n",
       "<!-- 16 -->\r\n",
       "<g id=\"node17\" class=\"node\"><title>16</title>\r\n",
       "<path fill=\"#e539c0\" stroke=\"black\" d=\"M890,-298.5C890,-298.5 753,-298.5 753,-298.5 747,-298.5 741,-292.5 741,-286.5 741,-286.5 741,-242.5 741,-242.5 741,-236.5 747,-230.5 753,-230.5 753,-230.5 890,-230.5 890,-230.5 896,-230.5 902,-236.5 902,-242.5 902,-242.5 902,-286.5 902,-286.5 902,-292.5 896,-298.5 890,-298.5\"/>\r\n",
       "<text text-anchor=\"middle\" x=\"821.5\" y=\"-283.3\" font-family=\"Helvetica,sans-Serif\" font-size=\"14.00\">gini = 0.0</text>\r\n",
       "<text text-anchor=\"middle\" x=\"821.5\" y=\"-268.3\" font-family=\"Helvetica,sans-Serif\" font-size=\"14.00\">samples = 488</text>\r\n",
       "<text text-anchor=\"middle\" x=\"821.5\" y=\"-253.3\" font-family=\"Helvetica,sans-Serif\" font-size=\"14.00\">value = [0, 0, 0, 0, 488]</text>\r\n",
       "<text text-anchor=\"middle\" x=\"821.5\" y=\"-238.3\" font-family=\"Helvetica,sans-Serif\" font-size=\"14.00\">class = Very Low</text>\r\n",
       "</g>\r\n",
       "<!-- 15&#45;&gt;16 -->\r\n",
       "<g id=\"edge16\" class=\"edge\"><title>15&#45;&gt;16</title>\r\n",
       "<path fill=\"none\" stroke=\"black\" d=\"M877.01,-341.907C868.753,-330.542 859.771,-318.178 851.485,-306.774\"/>\r\n",
       "<polygon fill=\"black\" stroke=\"black\" points=\"854.305,-304.7 845.596,-298.667 848.642,-308.814 854.305,-304.7\"/>\r\n",
       "</g>\r\n",
       "<!-- 17 -->\r\n",
       "<g id=\"node18\" class=\"node\"><title>17</title>\r\n",
       "<path fill=\"#a7ee7c\" stroke=\"black\" d=\"M1077,-306C1077,-306 932,-306 932,-306 926,-306 920,-300 920,-294 920,-294 920,-235 920,-235 920,-229 926,-223 932,-223 932,-223 1077,-223 1077,-223 1083,-223 1089,-229 1089,-235 1089,-235 1089,-294 1089,-294 1089,-300 1083,-306 1077,-306\"/>\r\n",
       "<text text-anchor=\"middle\" x=\"1004.5\" y=\"-290.8\" font-family=\"Helvetica,sans-Serif\" font-size=\"14.00\">index &lt;= 18858.5</text>\r\n",
       "<text text-anchor=\"middle\" x=\"1004.5\" y=\"-275.8\" font-family=\"Helvetica,sans-Serif\" font-size=\"14.00\">gini = 0.392</text>\r\n",
       "<text text-anchor=\"middle\" x=\"1004.5\" y=\"-260.8\" font-family=\"Helvetica,sans-Serif\" font-size=\"14.00\">samples = 339</text>\r\n",
       "<text text-anchor=\"middle\" x=\"1004.5\" y=\"-245.8\" font-family=\"Helvetica,sans-Serif\" font-size=\"14.00\">value = [1, 252, 4, 2, 80]</text>\r\n",
       "<text text-anchor=\"middle\" x=\"1004.5\" y=\"-230.8\" font-family=\"Helvetica,sans-Serif\" font-size=\"14.00\">class = Low</text>\r\n",
       "</g>\r\n",
       "<!-- 15&#45;&gt;17 -->\r\n",
       "<g id=\"edge17\" class=\"edge\"><title>15&#45;&gt;17</title>\r\n",
       "<path fill=\"none\" stroke=\"black\" d=\"M940.501,-341.907C948.102,-332.832 956.236,-323.121 964.069,-313.769\"/>\r\n",
       "<polygon fill=\"black\" stroke=\"black\" points=\"966.821,-315.934 970.559,-306.021 961.455,-311.439 966.821,-315.934\"/>\r\n",
       "</g>\r\n",
       "<!-- 18 -->\r\n",
       "<g id=\"node19\" class=\"node\"><title>18</title>\r\n",
       "<path fill=\"#7be539\" stroke=\"black\" d=\"M1070,-179.5C1070,-179.5 933,-179.5 933,-179.5 927,-179.5 921,-173.5 921,-167.5 921,-167.5 921,-123.5 921,-123.5 921,-117.5 927,-111.5 933,-111.5 933,-111.5 1070,-111.5 1070,-111.5 1076,-111.5 1082,-117.5 1082,-123.5 1082,-123.5 1082,-167.5 1082,-167.5 1082,-173.5 1076,-179.5 1070,-179.5\"/>\r\n",
       "<text text-anchor=\"middle\" x=\"1001.5\" y=\"-164.3\" font-family=\"Helvetica,sans-Serif\" font-size=\"14.00\">gini = 0.0</text>\r\n",
       "<text text-anchor=\"middle\" x=\"1001.5\" y=\"-149.3\" font-family=\"Helvetica,sans-Serif\" font-size=\"14.00\">samples = 252</text>\r\n",
       "<text text-anchor=\"middle\" x=\"1001.5\" y=\"-134.3\" font-family=\"Helvetica,sans-Serif\" font-size=\"14.00\">value = [0, 252, 0, 0, 0]</text>\r\n",
       "<text text-anchor=\"middle\" x=\"1001.5\" y=\"-119.3\" font-family=\"Helvetica,sans-Serif\" font-size=\"14.00\">class = Low</text>\r\n",
       "</g>\r\n",
       "<!-- 17&#45;&gt;18 -->\r\n",
       "<g id=\"edge18\" class=\"edge\"><title>17&#45;&gt;18</title>\r\n",
       "<path fill=\"none\" stroke=\"black\" d=\"M1003.46,-222.907C1003.18,-212.204 1002.89,-200.615 1002.61,-189.776\"/>\r\n",
       "<polygon fill=\"black\" stroke=\"black\" points=\"1006.11,-189.574 1002.35,-179.667 999.108,-189.753 1006.11,-189.574\"/>\r\n",
       "</g>\r\n",
       "<!-- 19 -->\r\n",
       "<g id=\"node20\" class=\"node\"><title>19</title>\r\n",
       "<path fill=\"#e74ac5\" stroke=\"black\" d=\"M1240.5,-187C1240.5,-187 1112.5,-187 1112.5,-187 1106.5,-187 1100.5,-181 1100.5,-175 1100.5,-175 1100.5,-116 1100.5,-116 1100.5,-110 1106.5,-104 1112.5,-104 1112.5,-104 1240.5,-104 1240.5,-104 1246.5,-104 1252.5,-110 1252.5,-116 1252.5,-116 1252.5,-175 1252.5,-175 1252.5,-181 1246.5,-187 1240.5,-187\"/>\r\n",
       "<text text-anchor=\"middle\" x=\"1176.5\" y=\"-171.8\" font-family=\"Helvetica,sans-Serif\" font-size=\"14.00\">index &lt;= 34674.5</text>\r\n",
       "<text text-anchor=\"middle\" x=\"1176.5\" y=\"-156.8\" font-family=\"Helvetica,sans-Serif\" font-size=\"14.00\">gini = 0.152</text>\r\n",
       "<text text-anchor=\"middle\" x=\"1176.5\" y=\"-141.8\" font-family=\"Helvetica,sans-Serif\" font-size=\"14.00\">samples = 87</text>\r\n",
       "<text text-anchor=\"middle\" x=\"1176.5\" y=\"-126.8\" font-family=\"Helvetica,sans-Serif\" font-size=\"14.00\">value = [1, 0, 4, 2, 80]</text>\r\n",
       "<text text-anchor=\"middle\" x=\"1176.5\" y=\"-111.8\" font-family=\"Helvetica,sans-Serif\" font-size=\"14.00\">class = Very Low</text>\r\n",
       "</g>\r\n",
       "<!-- 17&#45;&gt;19 -->\r\n",
       "<g id=\"edge19\" class=\"edge\"><title>17&#45;&gt;19</title>\r\n",
       "<path fill=\"none\" stroke=\"black\" d=\"M1064.17,-222.907C1078.45,-213.197 1093.8,-202.758 1108.42,-192.811\"/>\r\n",
       "<polygon fill=\"black\" stroke=\"black\" points=\"1110.63,-195.539 1116.93,-187.021 1106.69,-189.751 1110.63,-195.539\"/>\r\n",
       "</g>\r\n",
       "<!-- 20 -->\r\n",
       "<g id=\"node21\" class=\"node\"><title>20</title>\r\n",
       "<path fill=\"#b0f5e8\" stroke=\"black\" d=\"M1221.5,-68C1221.5,-68 1101.5,-68 1101.5,-68 1095.5,-68 1089.5,-62 1089.5,-56 1089.5,-56 1089.5,-12 1089.5,-12 1089.5,-6 1095.5,-0 1101.5,-0 1101.5,-0 1221.5,-0 1221.5,-0 1227.5,-0 1233.5,-6 1233.5,-12 1233.5,-12 1233.5,-56 1233.5,-56 1233.5,-62 1227.5,-68 1221.5,-68\"/>\r\n",
       "<text text-anchor=\"middle\" x=\"1161.5\" y=\"-52.8\" font-family=\"Helvetica,sans-Serif\" font-size=\"14.00\">gini = 0.571</text>\r\n",
       "<text text-anchor=\"middle\" x=\"1161.5\" y=\"-37.8\" font-family=\"Helvetica,sans-Serif\" font-size=\"14.00\">samples = 7</text>\r\n",
       "<text text-anchor=\"middle\" x=\"1161.5\" y=\"-22.8\" font-family=\"Helvetica,sans-Serif\" font-size=\"14.00\">value = [1, 0, 4, 2, 0]</text>\r\n",
       "<text text-anchor=\"middle\" x=\"1161.5\" y=\"-7.8\" font-family=\"Helvetica,sans-Serif\" font-size=\"14.00\">class = Medium</text>\r\n",
       "</g>\r\n",
       "<!-- 19&#45;&gt;20 -->\r\n",
       "<g id=\"edge20\" class=\"edge\"><title>19&#45;&gt;20</title>\r\n",
       "<path fill=\"none\" stroke=\"black\" d=\"M1170.91,-103.726C1169.78,-95.4263 1168.58,-86.6671 1167.43,-78.2834\"/>\r\n",
       "<polygon fill=\"black\" stroke=\"black\" points=\"1170.89,-77.732 1166.06,-68.2996 1163.95,-78.6821 1170.89,-77.732\"/>\r\n",
       "</g>\r\n",
       "<!-- 21 -->\r\n",
       "<g id=\"node22\" class=\"node\"><title>21</title>\r\n",
       "<path fill=\"#e539c0\" stroke=\"black\" d=\"M1391.5,-68C1391.5,-68 1263.5,-68 1263.5,-68 1257.5,-68 1251.5,-62 1251.5,-56 1251.5,-56 1251.5,-12 1251.5,-12 1251.5,-6 1257.5,-0 1263.5,-0 1263.5,-0 1391.5,-0 1391.5,-0 1397.5,-0 1403.5,-6 1403.5,-12 1403.5,-12 1403.5,-56 1403.5,-56 1403.5,-62 1397.5,-68 1391.5,-68\"/>\r\n",
       "<text text-anchor=\"middle\" x=\"1327.5\" y=\"-52.8\" font-family=\"Helvetica,sans-Serif\" font-size=\"14.00\">gini = 0.0</text>\r\n",
       "<text text-anchor=\"middle\" x=\"1327.5\" y=\"-37.8\" font-family=\"Helvetica,sans-Serif\" font-size=\"14.00\">samples = 80</text>\r\n",
       "<text text-anchor=\"middle\" x=\"1327.5\" y=\"-22.8\" font-family=\"Helvetica,sans-Serif\" font-size=\"14.00\">value = [0, 0, 0, 0, 80]</text>\r\n",
       "<text text-anchor=\"middle\" x=\"1327.5\" y=\"-7.8\" font-family=\"Helvetica,sans-Serif\" font-size=\"14.00\">class = Very Low</text>\r\n",
       "</g>\r\n",
       "<!-- 19&#45;&gt;21 -->\r\n",
       "<g id=\"edge21\" class=\"edge\"><title>19&#45;&gt;21</title>\r\n",
       "<path fill=\"none\" stroke=\"black\" d=\"M1232.73,-103.726C1246.06,-94.0582 1260.25,-83.767 1273.48,-74.172\"/>\r\n",
       "<polygon fill=\"black\" stroke=\"black\" points=\"1275.54,-77.0036 1281.58,-68.2996 1271.43,-71.3368 1275.54,-77.0036\"/>\r\n",
       "</g>\r\n",
       "<!-- 23 -->\r\n",
       "<g id=\"node24\" class=\"node\"><title>23</title>\r\n",
       "<path fill=\"#93ea5d\" stroke=\"black\" d=\"M1307.5,-425C1307.5,-425 1137.5,-425 1137.5,-425 1131.5,-425 1125.5,-419 1125.5,-413 1125.5,-413 1125.5,-354 1125.5,-354 1125.5,-348 1131.5,-342 1137.5,-342 1137.5,-342 1307.5,-342 1307.5,-342 1313.5,-342 1319.5,-348 1319.5,-354 1319.5,-354 1319.5,-413 1319.5,-413 1319.5,-419 1313.5,-425 1307.5,-425\"/>\r\n",
       "<text text-anchor=\"middle\" x=\"1222.5\" y=\"-409.8\" font-family=\"Helvetica,sans-Serif\" font-size=\"14.00\">index &lt;= 6312.0</text>\r\n",
       "<text text-anchor=\"middle\" x=\"1222.5\" y=\"-394.8\" font-family=\"Helvetica,sans-Serif\" font-size=\"14.00\">gini = 0.261</text>\r\n",
       "<text text-anchor=\"middle\" x=\"1222.5\" y=\"-379.8\" font-family=\"Helvetica,sans-Serif\" font-size=\"14.00\">samples = 8855</text>\r\n",
       "<text text-anchor=\"middle\" x=\"1222.5\" y=\"-364.8\" font-family=\"Helvetica,sans-Serif\" font-size=\"14.00\">value = [0, 7488, 0, 0, 1367]</text>\r\n",
       "<text text-anchor=\"middle\" x=\"1222.5\" y=\"-349.8\" font-family=\"Helvetica,sans-Serif\" font-size=\"14.00\">class = Low</text>\r\n",
       "</g>\r\n",
       "<!-- 22&#45;&gt;23 -->\r\n",
       "<g id=\"edge23\" class=\"edge\"><title>22&#45;&gt;23</title>\r\n",
       "<path fill=\"none\" stroke=\"black\" d=\"M1222.5,-460.907C1222.5,-452.649 1222.5,-443.864 1222.5,-435.302\"/>\r\n",
       "<polygon fill=\"black\" stroke=\"black\" points=\"1226,-435.021 1222.5,-425.021 1219,-435.021 1226,-435.021\"/>\r\n",
       "</g>\r\n",
       "<!-- 26 -->\r\n",
       "<g id=\"node27\" class=\"node\"><title>26</title>\r\n",
       "<path fill=\"#c2f7ed\" stroke=\"black\" d=\"M1667,-425C1667,-425 1464,-425 1464,-425 1458,-425 1452,-419 1452,-413 1452,-413 1452,-354 1452,-354 1452,-348 1458,-342 1464,-342 1464,-342 1667,-342 1667,-342 1673,-342 1679,-348 1679,-354 1679,-354 1679,-413 1679,-413 1679,-419 1673,-425 1667,-425\"/>\r\n",
       "<text text-anchor=\"middle\" x=\"1565.5\" y=\"-409.8\" font-family=\"Helvetica,sans-Serif\" font-size=\"14.00\">index &lt;= 23433.5</text>\r\n",
       "<text text-anchor=\"middle\" x=\"1565.5\" y=\"-394.8\" font-family=\"Helvetica,sans-Serif\" font-size=\"14.00\">gini = 0.627</text>\r\n",
       "<text text-anchor=\"middle\" x=\"1565.5\" y=\"-379.8\" font-family=\"Helvetica,sans-Serif\" font-size=\"14.00\">samples = 5759</text>\r\n",
       "<text text-anchor=\"middle\" x=\"1565.5\" y=\"-364.8\" font-family=\"Helvetica,sans-Serif\" font-size=\"14.00\">value = [1628, 0, 2902, 1130, 99]</text>\r\n",
       "<text text-anchor=\"middle\" x=\"1565.5\" y=\"-349.8\" font-family=\"Helvetica,sans-Serif\" font-size=\"14.00\">class = Medium</text>\r\n",
       "</g>\r\n",
       "<!-- 22&#45;&gt;26 -->\r\n",
       "<g id=\"edge26\" class=\"edge\"><title>22&#45;&gt;26</title>\r\n",
       "<path fill=\"none\" stroke=\"black\" d=\"M1341.5,-460.907C1374.08,-449.794 1409.46,-437.727 1442.27,-426.535\"/>\r\n",
       "<polygon fill=\"black\" stroke=\"black\" points=\"1443.57,-429.789 1451.91,-423.248 1441.31,-423.164 1443.57,-429.789\"/>\r\n",
       "</g>\r\n",
       "<!-- 24 -->\r\n",
       "<g id=\"node25\" class=\"node\"><title>24</title>\r\n",
       "<path fill=\"#e539c0\" stroke=\"black\" d=\"M1264,-298.5C1264,-298.5 1119,-298.5 1119,-298.5 1113,-298.5 1107,-292.5 1107,-286.5 1107,-286.5 1107,-242.5 1107,-242.5 1107,-236.5 1113,-230.5 1119,-230.5 1119,-230.5 1264,-230.5 1264,-230.5 1270,-230.5 1276,-236.5 1276,-242.5 1276,-242.5 1276,-286.5 1276,-286.5 1276,-292.5 1270,-298.5 1264,-298.5\"/>\r\n",
       "<text text-anchor=\"middle\" x=\"1191.5\" y=\"-283.3\" font-family=\"Helvetica,sans-Serif\" font-size=\"14.00\">gini = 0.0</text>\r\n",
       "<text text-anchor=\"middle\" x=\"1191.5\" y=\"-268.3\" font-family=\"Helvetica,sans-Serif\" font-size=\"14.00\">samples = 1367</text>\r\n",
       "<text text-anchor=\"middle\" x=\"1191.5\" y=\"-253.3\" font-family=\"Helvetica,sans-Serif\" font-size=\"14.00\">value = [0, 0, 0, 0, 1367]</text>\r\n",
       "<text text-anchor=\"middle\" x=\"1191.5\" y=\"-238.3\" font-family=\"Helvetica,sans-Serif\" font-size=\"14.00\">class = Very Low</text>\r\n",
       "</g>\r\n",
       "<!-- 23&#45;&gt;24 -->\r\n",
       "<g id=\"edge24\" class=\"edge\"><title>23&#45;&gt;24</title>\r\n",
       "<path fill=\"none\" stroke=\"black\" d=\"M1211.74,-341.907C1208.88,-331.094 1205.77,-319.376 1202.88,-308.441\"/>\r\n",
       "<polygon fill=\"black\" stroke=\"black\" points=\"1206.23,-307.437 1200.29,-298.667 1199.47,-309.23 1206.23,-307.437\"/>\r\n",
       "</g>\r\n",
       "<!-- 25 -->\r\n",
       "<g id=\"node26\" class=\"node\"><title>25</title>\r\n",
       "<path fill=\"#7be539\" stroke=\"black\" d=\"M1451,-298.5C1451,-298.5 1306,-298.5 1306,-298.5 1300,-298.5 1294,-292.5 1294,-286.5 1294,-286.5 1294,-242.5 1294,-242.5 1294,-236.5 1300,-230.5 1306,-230.5 1306,-230.5 1451,-230.5 1451,-230.5 1457,-230.5 1463,-236.5 1463,-242.5 1463,-242.5 1463,-286.5 1463,-286.5 1463,-292.5 1457,-298.5 1451,-298.5\"/>\r\n",
       "<text text-anchor=\"middle\" x=\"1378.5\" y=\"-283.3\" font-family=\"Helvetica,sans-Serif\" font-size=\"14.00\">gini = 0.0</text>\r\n",
       "<text text-anchor=\"middle\" x=\"1378.5\" y=\"-268.3\" font-family=\"Helvetica,sans-Serif\" font-size=\"14.00\">samples = 7488</text>\r\n",
       "<text text-anchor=\"middle\" x=\"1378.5\" y=\"-253.3\" font-family=\"Helvetica,sans-Serif\" font-size=\"14.00\">value = [0, 7488, 0, 0, 0]</text>\r\n",
       "<text text-anchor=\"middle\" x=\"1378.5\" y=\"-238.3\" font-family=\"Helvetica,sans-Serif\" font-size=\"14.00\">class = Low</text>\r\n",
       "</g>\r\n",
       "<!-- 23&#45;&gt;25 -->\r\n",
       "<g id=\"edge25\" class=\"edge\"><title>23&#45;&gt;25</title>\r\n",
       "<path fill=\"none\" stroke=\"black\" d=\"M1276.62,-341.907C1292.66,-329.88 1310.19,-316.735 1326.11,-304.791\"/>\r\n",
       "<polygon fill=\"black\" stroke=\"black\" points=\"1328.38,-307.467 1334.28,-298.667 1324.18,-301.867 1328.38,-307.467\"/>\r\n",
       "</g>\r\n",
       "<!-- 27 -->\r\n",
       "<g id=\"node28\" class=\"node\"><title>27</title>\r\n",
       "<path fill=\"#39e5c5\" stroke=\"black\" d=\"M1638,-298.5C1638,-298.5 1493,-298.5 1493,-298.5 1487,-298.5 1481,-292.5 1481,-286.5 1481,-286.5 1481,-242.5 1481,-242.5 1481,-236.5 1487,-230.5 1493,-230.5 1493,-230.5 1638,-230.5 1638,-230.5 1644,-230.5 1650,-236.5 1650,-242.5 1650,-242.5 1650,-286.5 1650,-286.5 1650,-292.5 1644,-298.5 1638,-298.5\"/>\r\n",
       "<text text-anchor=\"middle\" x=\"1565.5\" y=\"-283.3\" font-family=\"Helvetica,sans-Serif\" font-size=\"14.00\">gini = 0.0</text>\r\n",
       "<text text-anchor=\"middle\" x=\"1565.5\" y=\"-268.3\" font-family=\"Helvetica,sans-Serif\" font-size=\"14.00\">samples = 2902</text>\r\n",
       "<text text-anchor=\"middle\" x=\"1565.5\" y=\"-253.3\" font-family=\"Helvetica,sans-Serif\" font-size=\"14.00\">value = [0, 0, 2902, 0, 0]</text>\r\n",
       "<text text-anchor=\"middle\" x=\"1565.5\" y=\"-238.3\" font-family=\"Helvetica,sans-Serif\" font-size=\"14.00\">class = Medium</text>\r\n",
       "</g>\r\n",
       "<!-- 26&#45;&gt;27 -->\r\n",
       "<g id=\"edge27\" class=\"edge\"><title>26&#45;&gt;27</title>\r\n",
       "<path fill=\"none\" stroke=\"black\" d=\"M1565.5,-341.907C1565.5,-331.204 1565.5,-319.615 1565.5,-308.776\"/>\r\n",
       "<polygon fill=\"black\" stroke=\"black\" points=\"1569,-308.667 1565.5,-298.667 1562,-308.667 1569,-308.667\"/>\r\n",
       "</g>\r\n",
       "<!-- 28 -->\r\n",
       "<g id=\"node29\" class=\"node\"><title>28</title>\r\n",
       "<path fill=\"#f8dbc6\" stroke=\"black\" d=\"M1858.5,-306C1858.5,-306 1680.5,-306 1680.5,-306 1674.5,-306 1668.5,-300 1668.5,-294 1668.5,-294 1668.5,-235 1668.5,-235 1668.5,-229 1674.5,-223 1680.5,-223 1680.5,-223 1858.5,-223 1858.5,-223 1864.5,-223 1870.5,-229 1870.5,-235 1870.5,-235 1870.5,-294 1870.5,-294 1870.5,-300 1864.5,-306 1858.5,-306\"/>\r\n",
       "<text text-anchor=\"middle\" x=\"1769.5\" y=\"-290.8\" font-family=\"Helvetica,sans-Serif\" font-size=\"14.00\">index &lt;= 25952.0</text>\r\n",
       "<text text-anchor=\"middle\" x=\"1769.5\" y=\"-275.8\" font-family=\"Helvetica,sans-Serif\" font-size=\"14.00\">gini = 0.518</text>\r\n",
       "<text text-anchor=\"middle\" x=\"1769.5\" y=\"-260.8\" font-family=\"Helvetica,sans-Serif\" font-size=\"14.00\">samples = 2857</text>\r\n",
       "<text text-anchor=\"middle\" x=\"1769.5\" y=\"-245.8\" font-family=\"Helvetica,sans-Serif\" font-size=\"14.00\">value = [1628, 0, 0, 1130, 99]</text>\r\n",
       "<text text-anchor=\"middle\" x=\"1769.5\" y=\"-230.8\" font-family=\"Helvetica,sans-Serif\" font-size=\"14.00\">class = High</text>\r\n",
       "</g>\r\n",
       "<!-- 26&#45;&gt;28 -->\r\n",
       "<g id=\"edge28\" class=\"edge\"><title>26&#45;&gt;28</title>\r\n",
       "<path fill=\"none\" stroke=\"black\" d=\"M1636.28,-341.907C1653.52,-332.016 1672.09,-321.368 1689.72,-311.254\"/>\r\n",
       "<polygon fill=\"black\" stroke=\"black\" points=\"1691.92,-314.032 1698.85,-306.021 1688.43,-307.96 1691.92,-314.032\"/>\r\n",
       "</g>\r\n",
       "<!-- 29 -->\r\n",
       "<g id=\"node30\" class=\"node\"><title>29</title>\r\n",
       "<path fill=\"#e58139\" stroke=\"black\" d=\"M1746,-179.5C1746,-179.5 1601,-179.5 1601,-179.5 1595,-179.5 1589,-173.5 1589,-167.5 1589,-167.5 1589,-123.5 1589,-123.5 1589,-117.5 1595,-111.5 1601,-111.5 1601,-111.5 1746,-111.5 1746,-111.5 1752,-111.5 1758,-117.5 1758,-123.5 1758,-123.5 1758,-167.5 1758,-167.5 1758,-173.5 1752,-179.5 1746,-179.5\"/>\r\n",
       "<text text-anchor=\"middle\" x=\"1673.5\" y=\"-164.3\" font-family=\"Helvetica,sans-Serif\" font-size=\"14.00\">gini = 0.0</text>\r\n",
       "<text text-anchor=\"middle\" x=\"1673.5\" y=\"-149.3\" font-family=\"Helvetica,sans-Serif\" font-size=\"14.00\">samples = 1628</text>\r\n",
       "<text text-anchor=\"middle\" x=\"1673.5\" y=\"-134.3\" font-family=\"Helvetica,sans-Serif\" font-size=\"14.00\">value = [1628, 0, 0, 0, 0]</text>\r\n",
       "<text text-anchor=\"middle\" x=\"1673.5\" y=\"-119.3\" font-family=\"Helvetica,sans-Serif\" font-size=\"14.00\">class = High</text>\r\n",
       "</g>\r\n",
       "<!-- 28&#45;&gt;29 -->\r\n",
       "<g id=\"edge29\" class=\"edge\"><title>28&#45;&gt;29</title>\r\n",
       "<path fill=\"none\" stroke=\"black\" d=\"M1736.19,-222.907C1726.78,-211.432 1716.53,-198.938 1707.09,-187.442\"/>\r\n",
       "<polygon fill=\"black\" stroke=\"black\" points=\"1709.76,-185.178 1700.71,-179.667 1704.35,-189.618 1709.76,-185.178\"/>\r\n",
       "</g>\r\n",
       "<!-- 30 -->\r\n",
       "<g id=\"node31\" class=\"node\"><title>30</title>\r\n",
       "<path fill=\"#4d4ae7\" stroke=\"black\" d=\"M1941,-187C1941,-187 1788,-187 1788,-187 1782,-187 1776,-181 1776,-175 1776,-175 1776,-116 1776,-116 1776,-110 1782,-104 1788,-104 1788,-104 1941,-104 1941,-104 1947,-104 1953,-110 1953,-116 1953,-116 1953,-175 1953,-175 1953,-181 1947,-187 1941,-187\"/>\r\n",
       "<text text-anchor=\"middle\" x=\"1864.5\" y=\"-171.8\" font-family=\"Helvetica,sans-Serif\" font-size=\"14.00\">index &lt;= 35894.5</text>\r\n",
       "<text text-anchor=\"middle\" x=\"1864.5\" y=\"-156.8\" font-family=\"Helvetica,sans-Serif\" font-size=\"14.00\">gini = 0.148</text>\r\n",
       "<text text-anchor=\"middle\" x=\"1864.5\" y=\"-141.8\" font-family=\"Helvetica,sans-Serif\" font-size=\"14.00\">samples = 1229</text>\r\n",
       "<text text-anchor=\"middle\" x=\"1864.5\" y=\"-126.8\" font-family=\"Helvetica,sans-Serif\" font-size=\"14.00\">value = [0, 0, 0, 1130, 99]</text>\r\n",
       "<text text-anchor=\"middle\" x=\"1864.5\" y=\"-111.8\" font-family=\"Helvetica,sans-Serif\" font-size=\"14.00\">class = Very High</text>\r\n",
       "</g>\r\n",
       "<!-- 28&#45;&gt;30 -->\r\n",
       "<g id=\"edge30\" class=\"edge\"><title>28&#45;&gt;30</title>\r\n",
       "<path fill=\"none\" stroke=\"black\" d=\"M1802.46,-222.907C1809.75,-213.923 1817.56,-204.315 1825.08,-195.05\"/>\r\n",
       "<polygon fill=\"black\" stroke=\"black\" points=\"1828.01,-196.99 1831.6,-187.021 1822.58,-192.578 1828.01,-196.99\"/>\r\n",
       "</g>\r\n",
       "<!-- 31 -->\r\n",
       "<g id=\"node32\" class=\"node\"><title>31</title>\r\n",
       "<path fill=\"#3c39e5\" stroke=\"black\" d=\"M1847,-68C1847,-68 1702,-68 1702,-68 1696,-68 1690,-62 1690,-56 1690,-56 1690,-12 1690,-12 1690,-6 1696,-0 1702,-0 1702,-0 1847,-0 1847,-0 1853,-0 1859,-6 1859,-12 1859,-12 1859,-56 1859,-56 1859,-62 1853,-68 1847,-68\"/>\r\n",
       "<text text-anchor=\"middle\" x=\"1774.5\" y=\"-52.8\" font-family=\"Helvetica,sans-Serif\" font-size=\"14.00\">gini = 0.0</text>\r\n",
       "<text text-anchor=\"middle\" x=\"1774.5\" y=\"-37.8\" font-family=\"Helvetica,sans-Serif\" font-size=\"14.00\">samples = 1130</text>\r\n",
       "<text text-anchor=\"middle\" x=\"1774.5\" y=\"-22.8\" font-family=\"Helvetica,sans-Serif\" font-size=\"14.00\">value = [0, 0, 0, 1130, 0]</text>\r\n",
       "<text text-anchor=\"middle\" x=\"1774.5\" y=\"-7.8\" font-family=\"Helvetica,sans-Serif\" font-size=\"14.00\">class = Very High</text>\r\n",
       "</g>\r\n",
       "<!-- 30&#45;&gt;31 -->\r\n",
       "<g id=\"edge31\" class=\"edge\"><title>30&#45;&gt;31</title>\r\n",
       "<path fill=\"none\" stroke=\"black\" d=\"M1830.99,-103.726C1823.57,-94.6966 1815.7,-85.1235 1808.27,-76.0816\"/>\r\n",
       "<polygon fill=\"black\" stroke=\"black\" points=\"1810.92,-73.8026 1801.87,-68.2996 1805.52,-78.2474 1810.92,-73.8026\"/>\r\n",
       "</g>\r\n",
       "<!-- 32 -->\r\n",
       "<g id=\"node33\" class=\"node\"><title>32</title>\r\n",
       "<path fill=\"#e539c0\" stroke=\"black\" d=\"M2017.5,-68C2017.5,-68 1889.5,-68 1889.5,-68 1883.5,-68 1877.5,-62 1877.5,-56 1877.5,-56 1877.5,-12 1877.5,-12 1877.5,-6 1883.5,-0 1889.5,-0 1889.5,-0 2017.5,-0 2017.5,-0 2023.5,-0 2029.5,-6 2029.5,-12 2029.5,-12 2029.5,-56 2029.5,-56 2029.5,-62 2023.5,-68 2017.5,-68\"/>\r\n",
       "<text text-anchor=\"middle\" x=\"1953.5\" y=\"-52.8\" font-family=\"Helvetica,sans-Serif\" font-size=\"14.00\">gini = 0.0</text>\r\n",
       "<text text-anchor=\"middle\" x=\"1953.5\" y=\"-37.8\" font-family=\"Helvetica,sans-Serif\" font-size=\"14.00\">samples = 99</text>\r\n",
       "<text text-anchor=\"middle\" x=\"1953.5\" y=\"-22.8\" font-family=\"Helvetica,sans-Serif\" font-size=\"14.00\">value = [0, 0, 0, 0, 99]</text>\r\n",
       "<text text-anchor=\"middle\" x=\"1953.5\" y=\"-7.8\" font-family=\"Helvetica,sans-Serif\" font-size=\"14.00\">class = Very Low</text>\r\n",
       "</g>\r\n",
       "<!-- 30&#45;&gt;32 -->\r\n",
       "<g id=\"edge32\" class=\"edge\"><title>30&#45;&gt;32</title>\r\n",
       "<path fill=\"none\" stroke=\"black\" d=\"M1897.64,-103.726C1904.98,-94.6966 1912.76,-85.1235 1920.11,-76.0816\"/>\r\n",
       "<polygon fill=\"black\" stroke=\"black\" points=\"1922.84,-78.2672 1926.43,-68.2996 1917.41,-73.8521 1922.84,-78.2672\"/>\r\n",
       "</g>\r\n",
       "</g>\r\n",
       "</svg>\r\n"
      ],
      "text/plain": [
       "<graphviz.files.Source at 0x258a19bfe20>"
      ]
     },
     "execution_count": 42,
     "metadata": {},
     "output_type": "execute_result"
    }
   ],
   "source": [
    "\n",
    "import os\n",
    "from sklearn.tree import export_graphviz\n",
    "\n",
    "# We need to locate graphiz directory for visualization (after conda)\n",
    "os.environ[\"PATH\"] += ';' + r'C:\\Users\\micef\\anaconda3\\Library\\bin\\graphviz'\n",
    "\n",
    "import graphviz\n",
    "\n",
    "dot_data = export_graphviz(clf, out_file=None,\n",
    "                     feature_names=X.columns,\n",
    "                     class_names=categories,\n",
    "                     filled=True, rounded=True)\n",
    "graph = graphviz.Source(dot_data)\n",
    "graph\n"
   ]
  },
  {
   "cell_type": "code",
   "execution_count": 39,
   "metadata": {},
   "outputs": [
    {
     "name": "stdout",
     "output_type": "stream",
     "text": [
      "              precision    recall  f1-score   support\n",
      "\n",
      "           0       1.00      1.00      1.00       679\n",
      "           1       1.00      1.00      1.00      3359\n",
      "           2       1.00      1.00      1.00      1203\n",
      "           3       1.00      1.00      1.00       457\n",
      "           4       1.00      1.00      1.00     10484\n",
      "\n",
      "    accuracy                           1.00     16182\n",
      "   macro avg       1.00      1.00      1.00     16182\n",
      "weighted avg       1.00      1.00      1.00     16182\n",
      "\n"
     ]
    }
   ],
   "source": [
    "from sklearn.metrics import precision_score, recall_score, accuracy_score, classification_report, f1_score\n",
    "pred = clf.predict(X_test)\n",
    "print(classification_report(y_test,pred))\n"
   ]
  },
  {
   "cell_type": "code",
   "execution_count": 40,
   "metadata": {},
   "outputs": [
    {
     "name": "stdout",
     "output_type": "stream",
     "text": [
      "Precision = 0.9993847920406317\n",
      "Recall = 0.9991860373689212\n",
      "Accuracy = 0.9995056235323199\n",
      "F1 Score = 0.9992849142075482\n"
     ]
    }
   ],
   "source": [
    "print(\"Precision = {}\".format(precision_score(y_test, pred, average='macro')))\n",
    "print(\"Recall = {}\".format(recall_score(y_test, pred, average='macro')))\n",
    "print(\"Accuracy = {}\".format(accuracy_score(y_test, pred)))\n",
    "print(\"F1 Score = {}\".format(f1_score(y_test, pred,average='macro')))"
   ]
  },
  {
   "cell_type": "code",
   "execution_count": 41,
   "metadata": {},
   "outputs": [
    {
     "data": {
      "image/png": "[encoded data removed]",
      "text/plain": [
       "<Figure size 864x576 with 1 Axes>"
      ]
     },
     "metadata": {
      "needs_background": "light"
     },
     "output_type": "display_data"
    }
   ],
   "source": [
    "# Confusion Matrix\n",
    "from sklearn.metrics import confusion_matrix\n",
    "\n",
    "cm = confusion_matrix(y_test, pred)\n",
    "plt.figure(figsize=(12, 8))\n",
    "ax =sns.heatmap(cm, square=True, annot=True, cbar=False)\n",
    "ax.xaxis.set_ticklabels(categories, fontsize = 12)\n",
    "ax.yaxis.set_ticklabels(categories, fontsize = 12, rotation=0)\n",
    "ax.set_xlabel('Predicted Labels',fontsize = 15)\n",
    "ax.set_ylabel('True Labels',fontsize = 15)\n",
    "plt.show()"
   ]
  },
  {
   "cell_type": "code",
   "execution_count": 51,
   "metadata": {},
   "outputs": [],
   "source": [
    "from sklearn.preprocessing import StandardScaler\n",
    "\n",
    "scaler = StandardScaler().fit(X_train)\n",
    "X_train_n = scaler.transform(X_train)\n",
    "X_test_n = scaler.transform(X_test)"
   ]
  },
  {
   "cell_type": "code",
   "execution_count": 54,
   "metadata": {},
   "outputs": [],
   "source": [
    "from sklearn.cluster import KMeans\n",
    "\n",
    "modelk = KMeans(n_clusters=1)"
   ]
  },
  {
   "cell_type": "code",
   "execution_count": 55,
   "metadata": {},
   "outputs": [
    {
     "data": {
      "text/plain": [
       "KMeans(n_clusters=1)"
      ]
     },
     "execution_count": 55,
     "metadata": {},
     "output_type": "execute_result"
    }
   ],
   "source": [
    "modelk.fit(X_train_n)"
   ]
  },
  {
   "cell_type": "code",
   "execution_count": 57,
   "metadata": {},
   "outputs": [
    {
     "name": "stdout",
     "output_type": "stream",
     "text": [
      "Train score: -377579.9999999999\n",
      "Test score: -160986.5298353212\n"
     ]
    }
   ],
   "source": [
    "# model score, Opposite of the value of X on the K-means objective.\n",
    "print(\"Train score:\", modelk.score(X_train_n))\n",
    "print(\"Test score:\",modelk.score(X_test_n))"
   ]
  },
  {
   "cell_type": "code",
   "execution_count": 59,
   "metadata": {},
   "outputs": [],
   "source": [
    "train=[]\n",
    "test=[]\n",
    "\n",
    "for n in range(1, 10):\n",
    "    modelk = KMeans(n_clusters=n)\n",
    "    modelk.fit(X_train_n, y_train)\n",
    "    \n",
    "    train.append(modelk.score(X_train_n, y_train))\n",
    "    test.append(modelk.score(X_test_n, y_test))"
   ]
  },
  {
   "cell_type": "code",
   "execution_count": 60,
   "metadata": {},
   "outputs": [
    {
     "data": {
      "image/png": "[encoded data removed]",
      "text/plain": [
       "<Figure size 432x288 with 1 Axes>"
      ]
     },
     "metadata": {
      "needs_background": "light"
     },
     "output_type": "display_data"
    }
   ],
   "source": [
    "plt.plot(train)\n",
    "plt.plot(test)\n",
    "plt.legend((\"train\", \"test\"))\n",
    "plt.xticks(range(1, 33, 2))\n",
    "plt.show()"
   ]
  },
  {
   "cell_type": "code",
   "execution_count": 61,
   "metadata": {},
   "outputs": [],
   "source": [
    "\n",
    "var = []\n",
    "for n in range(1, 10):\n",
    "    modelk = KMeans(n_clusters=n)\n",
    "    modelk.fit(X_train_n)\n",
    "    \n",
    "    var.append(model.inertia_)  "
   ]
  },
  {
   "cell_type": "code",
   "execution_count": 63,
   "metadata": {},
   "outputs": [
    {
     "data": {
      "image/png": "[encoded data removed]",
      "text/plain": [
       "<Figure size 432x288 with 1 Axes>"
      ]
     },
     "metadata": {
      "needs_background": "light"
     },
     "output_type": "display_data"
    }
   ],
   "source": [
    "from sklearn.metrics import silhouette_score\n",
    "silhouette = []\n",
    "\n",
    "for n in range(2, 10):\n",
    "    modelk = KMeans(n_clusters=n)\n",
    "    modelk.fit(X_train_n)\n",
    "    label=modelk.predict(X_train_n)\n",
    "    silhouette.append(silhouette_score(X_train_n,label))\n",
    "    \n",
    "\n",
    "ax = plt.plot(silhouette)\n",
    "plt.xticks(range(8), range(2,10))\n",
    "plt.title(\"Mean Sihouette Score for Each K\")\n",
    "plt.show()"
   ]
  },
  {
   "cell_type": "code",
   "execution_count": 73,
   "metadata": {
    "scrolled": true
   },
   "outputs": [
    {
     "name": "stderr",
     "output_type": "stream",
     "text": [
      "C:\\Users\\micef\\anaconda3\\lib\\site-packages\\seaborn\\_decorators.py:36: FutureWarning: Pass the following variables as keyword args: x, y. From version 0.12, the only valid positional argument will be `data`, and passing other arguments without an explicit keyword will result in an error or misinterpretation.\n",
      "  warnings.warn(\n"
     ]
    },
    {
     "data": {
      "text/plain": [
       "<matplotlib.collections.PathCollection at 0x258a59fdb80>"
      ]
     },
     "execution_count": 73,
     "metadata": {},
     "output_type": "execute_result"
    },
    {
     "data": {
      "image/png": "[encoded data removed]",
      "text/plain": [
       "<Figure size 432x288 with 1 Axes>"
      ]
     },
     "metadata": {},
     "output_type": "display_data"
    }
   ],
   "source": [
    "modelk = KMeans(n_clusters=2,random_state=42)\n",
    "modelk.fit(X_train_n)\n",
    "\n",
    "clusters = modelk.predict(X_train_n)\n",
    "\n",
    "sns.scatterplot(X_train_n.T[0], X_train_n.T[1], hue=clusters)\n",
    "plt.scatter(x=modelk.cluster_centers_[0][0], y=modelk.cluster_centers_[0][1], color='r')\n",
    "plt.scatter(x=modelk.cluster_centers_[1][0], y=modelk.cluster_centers_[1][1], color='r')\n"
   ]
  },
  {
   "cell_type": "markdown",
   "metadata": {},
   "source": [
    "# Evaluation\n",
    "\n",
    "- Select the best performing model and write your comments about why choose this model.\n",
    "- Analyse results and make comment about how you can improve model."
   ]
  },
  {
   "cell_type": "code",
   "execution_count": null,
   "metadata": {},
   "outputs": [],
   "source": []
  }
 ],
 "metadata": {
  "kernelspec": {
   "display_name": "Python 3",
   "language": "python",
   "name": "python3"
  },
  "language_info": {
   "codemirror_mode": {
    "name": "ipython",
    "version": 3
   },
   "file_extension": ".py",
   "mimetype": "text/x-python",
   "name": "python",
   "nbconvert_exporter": "python",
   "pygments_lexer": "ipython3",
   "version": "3.8.5"
  }
 },
 "nbformat": 4,
 "nbformat_minor": 4
}
